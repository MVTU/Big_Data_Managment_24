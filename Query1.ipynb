{
 "cells": [
  {
   "cell_type": "code",
   "execution_count": 1,
   "id": "989e3658-f710-499d-b397-1f2f010ce5ee",
   "metadata": {},
   "outputs": [],
   "source": [
    "\n",
    "import pyspark\n",
    "from delta import *\n",
    "\n",
    "builder = pyspark.sql.SparkSession.builder.appName(\"DF2_Practice\") \\\n",
    "    .config(\"spark.sql.extensions\", \"io.delta.sql.DeltaSparkSessionExtension\") \\\n",
    "    .config(\"spark.sql.catalog.spark_catalog\", \"org.apache.spark.sql.delta.catalog.DeltaCatalog\") \n",
    "\n",
    "spark = configure_spark_with_delta_pip(builder).getOrCreate()"
   ]
  },
  {
   "cell_type": "code",
   "execution_count": 79,
   "id": "daaa3e4f-1a62-4d5d-afac-4e866cb58fde",
   "metadata": {},
   "outputs": [],
   "source": [
    "\n",
    "iso_df = (spark.read\n",
    "          .option(\"header\",\"true\")\n",
    "          .option(\"inferSchema\",\"true\")\n",
    "          .csv(\"sample.csv\")\n",
    "         )\n"
   ]
  },
  {
   "cell_type": "code",
   "execution_count": 80,
   "id": "6813f670-afd2-4b3f-8fa2-6a68a9bde5c2",
   "metadata": {},
   "outputs": [],
   "source": [
    "\n",
    "from pyspark.sql.window import Window\n",
    "from pyspark.sql.functions import lead\n",
    "from pyspark.sql.functions import lag\n",
    "from pyspark.sql.functions import unix_timestamp\n",
    "from pyspark.sql.functions import to_timestamp\n",
    "from pyspark.sql.functions import when\n",
    "from pyspark.sql.functions import *\n",
    "\n"
   ]
  },
  {
   "cell_type": "code",
   "execution_count": 81,
   "id": "7395ed5f-7cba-4709-af78-797031482276",
   "metadata": {},
   "outputs": [],
   "source": [
    "window = Window.orderBy(\"dropoff_datetime\").partitionBy(\"medallion\")"
   ]
  },
  {
   "cell_type": "code",
   "execution_count": 82,
   "id": "6842e035-aaf7-4870-ae3b-db390e547c36",
   "metadata": {},
   "outputs": [],
   "source": [
    "iso_df = iso_df.withColumn(\"prev_pickup\", lag(\"dropoff_datetime\").over(window))\n",
    "iso_df = iso_df.withColumn(\"delay\", unix_timestamp(\"pickup_datetime\") - unix_timestamp(\"prev_pickup\"))\n",
    "iso_df = iso_df.withColumn(\"session_ind\", when(iso_df.delay >= 14400, 'N').otherwise('Y'))\n",
    "mean_delay_df = iso_df.filter(iso_df.session_ind == 'Y').groupBy(\"medallion\").agg(avg(\"delay\").alias(\"mean_delay\"))\n",
    "iso_df = iso_df.join(mean_delay_df, on=\"medallion\", how=\"left\")"
   ]
  },
  {
   "cell_type": "code",
   "execution_count": 83,
   "id": "a8f191ba-9fc2-478d-a269-b5b943e34d87",
   "metadata": {},
   "outputs": [],
   "source": [
    "iso_df.head()\n",
    "\n",
    "sel = iso_df.select(\"medallion\", \"pickup_datetime\", \"dropoff_datetime\", \"prev_pickup\", \"delay\",\"session_ind\",iso_df.mean_delay)\n",
    "sel2 = iso_df.select( \"Delay\")\n"
   ]
  },
  {
   "cell_type": "code",
   "execution_count": 84,
   "id": "627ec439-7985-4788-b7cb-50bafa9c4e71",
   "metadata": {},
   "outputs": [
    {
     "name": "stdout",
     "output_type": "stream",
     "text": [
      "+--------------------+-------------------+-------------------+-------------------+-----+-----------+-----------------+\n",
      "|           medallion|    pickup_datetime|   dropoff_datetime|        prev_pickup|delay|session_ind|       mean_delay|\n",
      "+--------------------+-------------------+-------------------+-------------------+-----+-----------+-----------------+\n",
      "|000318C2E3E638158...|2013-01-13 04:41:00|2013-01-13 04:55:00|               NULL| NULL|          Y|790.9090909090909|\n",
      "|000318C2E3E638158...|2013-01-13 09:45:00|2013-01-13 09:47:00|2013-01-13 04:55:00|17400|          N|790.9090909090909|\n",
      "|000318C2E3E638158...|2013-01-13 09:56:00|2013-01-13 10:04:00|2013-01-13 09:47:00|  540|          Y|790.9090909090909|\n",
      "|000318C2E3E638158...|2013-01-13 10:05:00|2013-01-13 10:11:00|2013-01-13 10:04:00|   60|          Y|790.9090909090909|\n",
      "|000318C2E3E638158...|2013-01-13 10:31:00|2013-01-13 10:41:00|2013-01-13 10:11:00| 1200|          Y|790.9090909090909|\n",
      "|000318C2E3E638158...|2013-01-13 10:47:00|2013-01-13 10:52:00|2013-01-13 10:41:00|  360|          Y|790.9090909090909|\n",
      "|000318C2E3E638158...|2013-01-13 10:56:00|2013-01-13 11:04:00|2013-01-13 10:52:00|  240|          Y|790.9090909090909|\n",
      "|000318C2E3E638158...|2013-01-13 11:10:00|2013-01-13 11:27:00|2013-01-13 11:04:00|  360|          Y|790.9090909090909|\n",
      "|000318C2E3E638158...|2013-01-13 11:37:00|2013-01-13 11:43:00|2013-01-13 11:27:00|  600|          Y|790.9090909090909|\n",
      "|000318C2E3E638158...|2013-01-13 11:52:00|2013-01-13 11:58:00|2013-01-13 11:43:00|  540|          Y|790.9090909090909|\n",
      "|000318C2E3E638158...|2013-01-13 12:11:00|2013-01-13 12:19:00|2013-01-13 11:58:00|  780|          Y|790.9090909090909|\n",
      "|000318C2E3E638158...|2013-01-13 12:24:00|2013-01-13 12:36:00|2013-01-13 12:19:00|  300|          Y|790.9090909090909|\n",
      "|000318C2E3E638158...|2013-01-13 12:39:00|2013-01-13 12:46:00|2013-01-13 12:36:00|  180|          Y|790.9090909090909|\n",
      "|000318C2E3E638158...|2013-01-13 12:51:00|2013-01-13 13:03:00|2013-01-13 12:46:00|  300|          Y|790.9090909090909|\n",
      "|000318C2E3E638158...|2013-01-13 13:08:00|2013-01-13 13:14:00|2013-01-13 13:03:00|  300|          Y|790.9090909090909|\n",
      "|000318C2E3E638158...|2013-01-13 13:24:00|2013-01-13 13:31:00|2013-01-13 13:14:00|  600|          Y|790.9090909090909|\n",
      "|000318C2E3E638158...|2013-01-13 13:38:00|2013-01-13 13:48:00|2013-01-13 13:31:00|  420|          Y|790.9090909090909|\n",
      "|000318C2E3E638158...|2013-01-13 14:14:00|2013-01-13 14:31:00|2013-01-13 13:48:00| 1560|          Y|790.9090909090909|\n",
      "|000318C2E3E638158...|2013-01-13 14:40:00|2013-01-13 14:53:00|2013-01-13 14:31:00|  540|          Y|790.9090909090909|\n",
      "|000318C2E3E638158...|2013-01-13 14:55:00|2013-01-13 15:04:00|2013-01-13 14:53:00|  120|          Y|790.9090909090909|\n",
      "+--------------------+-------------------+-------------------+-------------------+-----+-----------+-----------------+\n",
      "only showing top 20 rows\n",
      "\n"
     ]
    }
   ],
   "source": [
    "sel.show()"
   ]
  },
  {
   "cell_type": "code",
   "execution_count": null,
   "id": "0533db05-d44f-4a24-89fd-52ff4a669d8e",
   "metadata": {},
   "outputs": [],
   "source": []
  }
 ],
 "metadata": {
  "kernelspec": {
   "display_name": "Python 3 (ipykernel)",
   "language": "python",
   "name": "python3"
  },
  "language_info": {
   "codemirror_mode": {
    "name": "ipython",
    "version": 3
   },
   "file_extension": ".py",
   "mimetype": "text/x-python",
   "name": "python",
   "nbconvert_exporter": "python",
   "pygments_lexer": "ipython3",
   "version": "3.11.7"
  }
 },
 "nbformat": 4,
 "nbformat_minor": 5
}
