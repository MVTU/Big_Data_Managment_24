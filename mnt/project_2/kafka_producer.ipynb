{
 "cells": [
  {
   "cell_type": "code",
   "execution_count": 9,
   "id": "5a8b9a94",
   "metadata": {},
   "outputs": [],
   "source": [
    "!pip install confluent_kafka sseclient"
   ]
  },
  {
   "cell_type": "code",
   "execution_count": 20,
   "id": "2e778584",
   "metadata": {},
   "outputs": [],
   "source": [
    "from confluent_kafka import SerializingProducer, DeserializingConsumer\n",
    "from confluent_kafka.serialization import StringSerializer, StringDeserializer\n",
    "from confluent_kafka.admin import AdminClient, NewTopic\n",
    "from uuid import uuid4\n",
    "import sys, random\n",
    "\n",
    "brokers = \"kafka1:9092,kafka2:9093\""
   ]
  },
  {
   "cell_type": "code",
   "execution_count": 21,
   "id": "ef7871fb",
   "metadata": {},
   "outputs": [],
   "source": [
    "pconf = {\n",
    "    'bootstrap.servers': brokers,\n",
    "    'partitioner': 'murmur2_random',\n",
    "    'key.serializer': StringSerializer('utf_8'),\n",
    "    'value.serializer':  StringSerializer('utf_8')\n",
    "}"
   ]
  },
  {
   "cell_type": "code",
   "execution_count": 22,
   "id": "46183cdf",
   "metadata": {},
   "outputs": [],
   "source": [
    "p = SerializingProducer(pconf)"
   ]
  },
  {
   "cell_type": "code",
   "execution_count": 23,
   "id": "be76611f",
   "metadata": {},
   "outputs": [],
   "source": [
    "stocks = \"sample.csv\""
   ]
  },
  {
   "cell_type": "code",
   "execution_count": 24,
   "id": "fd849c8f",
   "metadata": {},
   "outputs": [],
   "source": [
    "from datetime import datetime  \n",
    "  #2023-10-13T08:16:13Z\n",
    "def construct_stock(row):\n",
    "    time_stamp = time.time()\n",
    "    date_time = datetime.fromtimestamp(time_stamp)\n",
    "    str_date_time = date_time.strftime(\"%Y-%m-%dT%H:%M:%SZ\") #\"%d-%m-%Y, %H:%M:%S\"\n",
    "    stock = {\n",
    "        \"medallion\":                row[0],\n",
    "        \"hack_licence\":             row[1],\n",
    "        \"vendor_id\":                row[2],\n",
    "        \"rate_code\":            int(row[3]),\n",
    "        \"store_and_fwd_flag\":       row[4],\n",
    "        \"pickup_datetime\":          row[5],\n",
    "        \"dropoff_datetime\":         row[6],\n",
    "        \"passenger_count\":      int(row[7]),\n",
    "        \"trip_time_in_secs\":    int(row[8]),\n",
    "        \"trip_distance\":      float(row[9]),\n",
    "        \"pickup_longitude\":   float(row[10]),\n",
    "        \"pickup_latitude\":    float(row[11]),\n",
    "        \"dropoff_longitude\":  float(row[12]),\n",
    "        \"dropoff_latitude\":   float(row[13]),\n",
    "        \"timestamp\":          str_date_time\n",
    "    }\n",
    "    return stock"
   ]
  },
  {
   "cell_type": "code",
   "execution_count": null,
   "id": "06e266f9",
   "metadata": {},
   "outputs": [],
   "source": [
    "import csv, json\n",
    "import time\n",
    "n = 0\n",
    "with open(stocks) as csv_file:\n",
    "    csv_reader = csv.reader(csv_file, delimiter=',')\n",
    "    next(csv_reader) # Skip header row\n",
    "    try:\n",
    "        for row in csv_reader:\n",
    "            if n == 100:\n",
    "                break\n",
    "            stock = construct_stock(row)\n",
    "            print(stock)\n",
    "            p.produce('stock', value=json.dumps(stock))\n",
    "            p.poll(0)\n",
    "            p.flush()\n",
    "            time.sleep(0.5)\n",
    "            n = n + 1\n",
    "    except BufferError:\n",
    "        sys.stderr.write(\n",
    "            '%% Local producer queue is full (%d messages awaiting delivery): try again\\n' % len(p)\n",
    "        )"
   ]
  },
  {
   "cell_type": "markdown",
   "id": "5d0a3766-7c7e-4792-8929-e92740f7aed7",
   "metadata": {},
   "source": [
    "### Use only if you need to purge all the messages in the queue"
   ]
  },
  {
   "cell_type": "code",
   "execution_count": 26,
   "id": "c449281e-8c82-4d8f-a9db-030d2dcdcf07",
   "metadata": {},
   "outputs": [
    {
     "data": {
      "text/plain": [
       "{'stock': <Future at 0xffff77f40790 state=running>}"
      ]
     },
     "execution_count": 26,
     "metadata": {},
     "output_type": "execute_result"
    }
   ],
   "source": [
    "brokers = \"kafka1:9092,kafka2:9093\"\n",
    "\n",
    "admin_client = AdminClient({\"bootstrap.servers\":brokers})\n",
    "admin_client.delete_topics(topics=['stock'])"
   ]
  }
 ],
 "metadata": {
  "kernelspec": {
   "display_name": "Python 3 (ipykernel)",
   "language": "python",
   "name": "python3"
  },
  "language_info": {
   "codemirror_mode": {
    "name": "ipython",
    "version": 3
   },
   "file_extension": ".py",
   "mimetype": "text/x-python",
   "name": "python",
   "nbconvert_exporter": "python",
   "pygments_lexer": "ipython3",
   "version": "3.11.9"
  }
 },
 "nbformat": 4,
 "nbformat_minor": 5
}
