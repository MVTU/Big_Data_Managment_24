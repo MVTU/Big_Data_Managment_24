{
 "cells": [
  {
   "cell_type": "markdown",
   "id": "013dd39e-d394-4681-ab24-fee98fb9a06a",
   "metadata": {},
   "source": [
    "# Sending NYC taxi rides as Kafka messages\n",
    "\n",
    "## Install some Python libraries"
   ]
  },
  {
   "cell_type": "code",
   "execution_count": 6,
   "id": "5a8b9a94",
   "metadata": {},
   "outputs": [],
   "source": [
    "!pip install confluent_kafka sseclient"
   ]
  },
  {
   "cell_type": "code",
   "execution_count": 1,
   "id": "2e778584",
   "metadata": {},
   "outputs": [],
   "source": [
    "from datetime import datetime\n",
    "import csv, json, time, sys, random\n",
    "\n",
    "from confluent_kafka import SerializingProducer\n",
    "from confluent_kafka.serialization import StringSerializer\n",
    "from confluent_kafka.admin import AdminClient"
   ]
  },
  {
   "cell_type": "markdown",
   "id": "9656a34c-880d-4d3f-92e6-fd44b1de9eca",
   "metadata": {},
   "source": [
    "## Kafka producer setup"
   ]
  },
  {
   "cell_type": "code",
   "execution_count": 2,
   "id": "ef7871fb",
   "metadata": {},
   "outputs": [],
   "source": [
    "brokers = \"kafka1:9092,kafka2:9093\"\n",
    "\n",
    "pconf = {\n",
    "    'bootstrap.servers': brokers,\n",
    "    'partitioner': 'murmur2_random',\n",
    "    'key.serializer': StringSerializer('utf_8'),\n",
    "    'value.serializer':  StringSerializer('utf_8')\n",
    "}\n",
    "p = SerializingProducer(pconf)\n",
    "\n",
    "stocks = \"sample.csv\""
   ]
  },
  {
   "cell_type": "markdown",
   "id": "fb875f02-97ef-4869-9a24-f0bb28cf7f7b",
   "metadata": {},
   "source": [
    "## Construct Kafka message object"
   ]
  },
  {
   "cell_type": "code",
   "execution_count": 7,
   "id": "fd849c8f",
   "metadata": {},
   "outputs": [],
   "source": [
    "def to_dictionary(row_values):\n",
    "    time_stamp = time.time()\n",
    "    date_time = datetime.fromtimestamp(time_stamp)\n",
    "    str_date_time = date_time.strftime(\"%Y-%m-%dT%H:%M:%SZ\")\n",
    "    \n",
    "    return {\n",
    "        \"medallion\":                row_values[0],\n",
    "        \"hack_licence\":             row_values[1],\n",
    "        \"vendor_id\":                row_values[2],\n",
    "        \"rate_code\":            int(row_values[3]),\n",
    "        \"store_and_fwd_flag\":       row_values[4],\n",
    "        \"pickup_datetime\":          row_values[5],\n",
    "        \"dropoff_datetime\":         row_values[6],\n",
    "        \"passenger_count\":      int(row_values[7]),\n",
    "        \"trip_time_in_secs\":    int(row_values[8]),\n",
    "        \"trip_distance\":      float(row_values[9]),\n",
    "        \"pickup_longitude\":   float(row_values[10]),\n",
    "        \"pickup_latitude\":    float(row_values[11]),\n",
    "        \"dropoff_longitude\":  float(row_values[12]),\n",
    "        \"dropoff_latitude\":   float(row_values[13]),\n",
    "        \"timestamp\":          str_date_time\n",
    "    }"
   ]
  },
  {
   "cell_type": "markdown",
   "id": "679cfecb-e74c-4785-8a6f-db4c923a2884",
   "metadata": {},
   "source": [
    "## Start the stream\n",
    "\n",
    "While this is running (or after), run the other notebook `kafka_consumer.ipynb`. Change the `n_messages` to configure how many messages are sent."
   ]
  },
  {
   "cell_type": "code",
   "execution_count": 8,
   "id": "06e266f9",
   "metadata": {},
   "outputs": [
    {
     "name": "stdout",
     "output_type": "stream",
     "text": [
      "{'medallion': '89D227B655E5C82AECF13C3F540D4CF4', 'hack_licence': 'BA96DE419E711691B9445D6A6307C170', 'vendor_id': 'CMT', 'rate_code': 1, 'store_and_fwd_flag': 'N', 'pickup_datetime': '2013-01-01 15:11:48', 'dropoff_datetime': '2013-01-01 15:18:10', 'passenger_count': 4, 'trip_time_in_secs': 382, 'trip_distance': 1.0, 'pickup_longitude': -73.978165, 'pickup_latitude': 40.757977, 'dropoff_longitude': -73.989838, 'dropoff_latitude': 40.751171, 'timestamp': '2024-05-23T12:11:54Z'}\n",
      "{'medallion': '0BD7C8F5BA12B88E0B67BED28BEA73D8', 'hack_licence': '9FD8F69F0804BDB5549F40E9DA1BE472', 'vendor_id': 'CMT', 'rate_code': 1, 'store_and_fwd_flag': 'N', 'pickup_datetime': '2013-01-06 00:18:35', 'dropoff_datetime': '2013-01-06 00:22:54', 'passenger_count': 1, 'trip_time_in_secs': 259, 'trip_distance': 1.5, 'pickup_longitude': -74.006683, 'pickup_latitude': 40.731781, 'dropoff_longitude': -73.994499, 'dropoff_latitude': 40.75066, 'timestamp': '2024-05-23T12:11:54Z'}\n",
      "{'medallion': '0BD7C8F5BA12B88E0B67BED28BEA73D8', 'hack_licence': '9FD8F69F0804BDB5549F40E9DA1BE472', 'vendor_id': 'CMT', 'rate_code': 1, 'store_and_fwd_flag': 'N', 'pickup_datetime': '2013-01-05 18:49:41', 'dropoff_datetime': '2013-01-05 18:54:23', 'passenger_count': 1, 'trip_time_in_secs': 282, 'trip_distance': 1.1, 'pickup_longitude': -74.004707, 'pickup_latitude': 40.73777, 'dropoff_longitude': -74.009834, 'dropoff_latitude': 40.726002, 'timestamp': '2024-05-23T12:11:55Z'}\n"
     ]
    }
   ],
   "source": [
    "n_messages = 3\n",
    "\n",
    "n = 0\n",
    "with open(stocks) as csv_file:\n",
    "    csv_reader = csv.reader(csv_file, delimiter=',')\n",
    "    next(csv_reader) # Skip header row\n",
    "    try:\n",
    "        for row in csv_reader:\n",
    "            if n == n_messages:\n",
    "                break\n",
    "            stock = to_dictionary(row)\n",
    "            print(stock)\n",
    "            p.produce('stock', value=json.dumps(stock))\n",
    "            p.poll(0)\n",
    "            p.flush()\n",
    "            time.sleep(0.5)\n",
    "            n = n + 1\n",
    "    except BufferError:\n",
    "        sys.stderr.write(\n",
    "            '%% Local producer queue is full (%d messages awaiting delivery): try again\\n' % len(p)\n",
    "        )"
   ]
  },
  {
   "cell_type": "markdown",
   "id": "5d0a3766-7c7e-4792-8929-e92740f7aed7",
   "metadata": {},
   "source": [
    "## Use only if you need to purge all the messages in the queue"
   ]
  },
  {
   "cell_type": "code",
   "execution_count": 5,
   "id": "c449281e-8c82-4d8f-a9db-030d2dcdcf07",
   "metadata": {},
   "outputs": [
    {
     "data": {
      "text/plain": [
       "{'stock': <Future at 0xffff948baed0 state=running>}"
      ]
     },
     "execution_count": 5,
     "metadata": {},
     "output_type": "execute_result"
    }
   ],
   "source": [
    "admin_client = AdminClient({\"bootstrap.servers\":brokers})\n",
    "admin_client.delete_topics(topics=['stock'])"
   ]
  }
 ],
 "metadata": {
  "kernelspec": {
   "display_name": "Python 3 (ipykernel)",
   "language": "python",
   "name": "python3"
  },
  "language_info": {
   "codemirror_mode": {
    "name": "ipython",
    "version": 3
   },
   "file_extension": ".py",
   "mimetype": "text/x-python",
   "name": "python",
   "nbconvert_exporter": "python",
   "pygments_lexer": "ipython3",
   "version": "3.11.9"
  }
 },
 "nbformat": 4,
 "nbformat_minor": 5
}
