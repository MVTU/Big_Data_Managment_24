{
 "cells": [
  {
   "cell_type": "markdown",
   "id": "6565e3f8",
   "metadata": {},
   "source": [
    "# Reading NYC taxi rides from Kafka using Spark Streaming\n",
    "\n",
    "## PySpark setup"
   ]
  },
  {
   "cell_type": "code",
   "execution_count": 187,
   "id": "59be8b0a-fe76-42f2-b521-d8ce4673d7ed",
   "metadata": {},
   "outputs": [],
   "source": [
    "from pyspark.sql.session import SparkSession\n",
    "\n",
    "from delta import *\n",
    "from delta.tables import *\n",
    "\n",
    "\n",
    "builder = (\n",
    "    SparkSession.builder.appName(\"NYC_taxi_kafka\")\n",
    "    .config(\"spark.sql.extensions\", \n",
    "            \"io.delta.sql.DeltaSparkSessionExtension\")\n",
    "    .config(\"spark.sql.catalog.spark_catalog\", \n",
    "            \"org.apache.spark.sql.delta.catalog.DeltaCatalog\")\n",
    "    .config(\"spark.jars.packages\", \n",
    "            \"org.apache.spark:spark-sql-kafka-0-10_2.12:3.0.0\")\n",
    "    .config(\"spark.sql.repl.eagerEval.enabled\", True)\n",
    ")\n",
    "\n",
    "spark = configure_spark_with_delta_pip(builder).getOrCreate()"
   ]
  },
  {
   "cell_type": "markdown",
   "id": "b4c69c7f-e61c-4a87-9281-7f38219bf1bc",
   "metadata": {},
   "source": [
    "## Define schema"
   ]
  },
  {
   "cell_type": "code",
   "execution_count": 188,
   "id": "4e622d5b-ef4d-4d78-abcb-e9edc2305ac8",
   "metadata": {},
   "outputs": [],
   "source": [
    "from pyspark.sql.types import (\n",
    "    StructType, StructField, StringType, IntegerType, \n",
    "    DoubleType, BooleanType, TimestampType, DateType\n",
    ")\n",
    "\n",
    "schema = StructType(\n",
    "      [\n",
    "        StructField(\"medallion\",          StringType(), False),\n",
    "        StructField(\"hack_licence\",       StringType(), False),\n",
    "        StructField(\"vendor_id\",          StringType(), False),\n",
    "        StructField(\"rate_code\",          IntegerType(), False),\n",
    "        StructField(\"store_and_fwd_flag\", StringType(), False),\n",
    "        StructField(\"pickup_datetime\",    StringType(), False),\n",
    "        StructField(\"dropoff_datetime\",   StringType(), False),\n",
    "        StructField(\"passenger_count\",    IntegerType(), False),\n",
    "        StructField(\"trip_time_in_secs\",  IntegerType(), False),\n",
    "        StructField(\"trip_distance\",      DoubleType(), False),\n",
    "        StructField(\"pickup_longitude\",   DoubleType(), False),\n",
    "        StructField(\"pickup_latitude\",    DoubleType(), False),\n",
    "        StructField(\"dropoff_longitude\",  DoubleType(), False),\n",
    "        StructField(\"dropoff_latitude\",   DoubleType(), False),\n",
    "        StructField(\"timestamp\",          TimestampType(), False)\n",
    "      ]\n",
    "    )"
   ]
  },
  {
   "cell_type": "markdown",
   "id": "a35005b8",
   "metadata": {},
   "source": [
    "## Read Kafka stream and parse JSON\n",
    "\n",
    "Be sure to start the stream from the notebook `kafka_producer.ipynb`!"
   ]
  },
  {
   "cell_type": "code",
   "execution_count": 189,
   "id": "69712d38",
   "metadata": {},
   "outputs": [],
   "source": [
    "from pyspark.sql.functions import from_json, col\n",
    "\n",
    "kafka_server = \"kafka1:9092\" \n",
    "\n",
    "kafka_df = (spark.readStream                        # Get the DataStreamReader\n",
    "  .format(\"kafka\")                                 # Specify the source format as \"kafka\"\n",
    "  .option(\"kafka.bootstrap.servers\", kafka_server) # Configure the Kafka server name and port\n",
    "  .option(\"subscribe\", \"stock\")                       # Subscribe to the \"stock\" Kafka topic \n",
    "  .option(\"startingOffsets\", \"earliest\")           # The start point when a query is started\n",
    "  .option(\"maxOffsetsPerTrigger\", 100)             # Rate limit on max offsets per trigger interval\n",
    "  .load() # Load the DataFrame\n",
    ")\n",
    "\n",
    "parsed_df = kafka_df.select(\n",
    "    from_json(\n",
    "        col(\"value\").cast(\"string\"), schema\n",
    "    ).alias(\"parsed_value\")\n",
    ").select(\"parsed_value.*\")"
   ]
  },
  {
   "cell_type": "markdown",
   "id": "c07bf182-b64f-42f2-895f-23a433d7c762",
   "metadata": {},
   "source": [
    "## Write data into a Delta table"
   ]
  },
  {
   "cell_type": "code",
   "execution_count": 191,
   "id": "b2e6c7fb-fe45-4b36-a8f3-c987e0d612cf",
   "metadata": {},
   "outputs": [
    {
     "name": "stdout",
     "output_type": "stream",
     "text": [
      "data exists\n"
     ]
    }
   ],
   "source": [
    "import time, os\n",
    "\n",
    "table_name = \"taxi_rides\"\n",
    "checkpoint_path = \"streaming/orders/_checkpoint\" \n",
    "output_path = f\"spark-warehouse/{table_name}\"\n",
    "\n",
    "query = (parsed_df.writeStream\n",
    "  .outputMode(\"append\")\n",
    "  .format(\"delta\")\n",
    "  .queryName(f\"{table_name}_query\")\n",
    "  .trigger(processingTime=\"5 second\")\n",
    "  .option(\"checkpointLocation\", checkpoint_path)\n",
    "  .start(output_path) \n",
    ")\n",
    "\n",
    "# if you create the table metastore before any data exists then \n",
    "# the stream will result in an error as the table is generated with empty schema\n",
    "def create_table_if_exists(output_path, table_name):\n",
    "    data_exists = False\n",
    "    # you can replace this with while, currently timeouts after about 60 seconds\n",
    "    for _ in range(60):\n",
    "        try:\n",
    "            time.sleep(1)\n",
    "            files = os.listdir(output_path)\n",
    "            for file in files:\n",
    "                if \".parquet\" in file:\n",
    "                    if len(os.listdir(f\"{output_path}/_delta_log\"))>0:\n",
    "                        print(\"data exists\")\n",
    "                        data_exists = True\n",
    "                        break\n",
    "            if data_exists:\n",
    "                # table metastore is created once there is some data (.parquet) in the directory\n",
    "                spark.sql(f\"CREATE TABLE IF NOT EXISTS {table_name} USING DELTA LOCATION '{table_name}'\")\n",
    "                break\n",
    "        except Exception as e:\n",
    "            print(e)\n",
    "\n",
    "create_table_if_exists(output_path, table_name)"
   ]
  },
  {
   "cell_type": "markdown",
   "id": "0b518122-75d6-4faf-bf90-d18b21fe56f1",
   "metadata": {},
   "source": [
    "If you need to run the query again, you need to stop it first."
   ]
  },
  {
   "cell_type": "code",
   "execution_count": 190,
   "id": "adac87d9-8909-4cd6-96af-15198d04ff13",
   "metadata": {},
   "outputs": [],
   "source": [
    "query.stop()"
   ]
  },
  {
   "cell_type": "code",
   "execution_count": 192,
   "id": "e88cfd42-35ab-4441-aec8-8ece95aaf828",
   "metadata": {},
   "outputs": [
    {
     "data": {
      "text/html": [
       "<table border='1'>\n",
       "<tr><th>medallion</th><th>hack_licence</th><th>vendor_id</th><th>rate_code</th><th>store_and_fwd_flag</th><th>pickup_datetime</th><th>dropoff_datetime</th><th>passenger_count</th><th>trip_time_in_secs</th><th>trip_distance</th><th>pickup_longitude</th><th>pickup_latitude</th><th>dropoff_longitude</th><th>dropoff_latitude</th><th>timestamp</th></tr>\n",
       "<tr><td>69F42CD1BA72F0F09...</td><td>65BABDDBC94F4C1AA...</td><td>VTS</td><td>1</td><td></td><td>2013-01-13 10:16:00</td><td>2013-01-13 10:28:00</td><td>1</td><td>720</td><td>2.17</td><td>-73.992844</td><td>40.713799</td><td>-74.001717</td><td>40.733776</td><td>2024-06-02 12:10:11</td></tr>\n",
       "<tr><td>D6B8D56A5D40E146B...</td><td>972D3BFAA5DE759A2...</td><td>VTS</td><td>2</td><td></td><td>2013-01-13 09:57:00</td><td>2013-01-13 10:27:00</td><td>1</td><td>1800</td><td>17.61</td><td>-73.78878</td><td>40.645191</td><td>-73.992699</td><td>40.756935</td><td>2024-06-02 12:10:11</td></tr>\n",
       "<tr><td>8D8BCB635B9DD8552...</td><td>CED64F99A0EB4DB33...</td><td>VTS</td><td>1</td><td></td><td>2013-01-13 10:20:00</td><td>2013-01-13 10:31:00</td><td>1</td><td>660</td><td>1.77</td><td>-73.977867</td><td>40.751862</td><td>-73.988167</td><td>40.749813</td><td>2024-06-02 12:10:12</td></tr>\n",
       "</table>\n"
      ],
      "text/plain": [
       "+--------------------+--------------------+---------+---------+------------------+-------------------+-------------------+---------------+-----------------+-------------+----------------+---------------+-----------------+----------------+-------------------+\n",
       "|           medallion|        hack_licence|vendor_id|rate_code|store_and_fwd_flag|    pickup_datetime|   dropoff_datetime|passenger_count|trip_time_in_secs|trip_distance|pickup_longitude|pickup_latitude|dropoff_longitude|dropoff_latitude|          timestamp|\n",
       "+--------------------+--------------------+---------+---------+------------------+-------------------+-------------------+---------------+-----------------+-------------+----------------+---------------+-----------------+----------------+-------------------+\n",
       "|69F42CD1BA72F0F09...|65BABDDBC94F4C1AA...|      VTS|        1|                  |2013-01-13 10:16:00|2013-01-13 10:28:00|              1|              720|         2.17|      -73.992844|      40.713799|       -74.001717|       40.733776|2024-06-02 12:10:11|\n",
       "|D6B8D56A5D40E146B...|972D3BFAA5DE759A2...|      VTS|        2|                  |2013-01-13 09:57:00|2013-01-13 10:27:00|              1|             1800|        17.61|       -73.78878|      40.645191|       -73.992699|       40.756935|2024-06-02 12:10:11|\n",
       "|8D8BCB635B9DD8552...|CED64F99A0EB4DB33...|      VTS|        1|                  |2013-01-13 10:20:00|2013-01-13 10:31:00|              1|              660|         1.77|      -73.977867|      40.751862|       -73.988167|       40.749813|2024-06-02 12:10:12|\n",
       "+--------------------+--------------------+---------+---------+------------------+-------------------+-------------------+---------------+-----------------+-------------+----------------+---------------+-----------------+----------------+-------------------+"
      ]
     },
     "metadata": {},
     "output_type": "display_data"
    }
   ],
   "source": [
    "display(spark.table(table_name).limit(3))"
   ]
  },
  {
   "cell_type": "code",
   "execution_count": 202,
   "id": "2a8e9cce-372a-49b9-b42a-c0f00a8df9b9",
   "metadata": {},
   "outputs": [
    {
     "data": {
      "text/html": [
       "<table border='1'>\n",
       "<tr><th>medallion</th><th>count</th></tr>\n",
       "<tr><td>764CA5AE502C0FEC9...</td><td>4</td></tr>\n",
       "<tr><td>9771700E1AE5E87B2...</td><td>2</td></tr>\n",
       "<tr><td>DDB3F3E0172B1FBF0...</td><td>4</td></tr>\n",
       "<tr><td>D8355B560482C567F...</td><td>1</td></tr>\n",
       "<tr><td>5E162F2D7F5699497...</td><td>3</td></tr>\n",
       "<tr><td>29111C0EE74A4E682...</td><td>1</td></tr>\n",
       "<tr><td>4728FA63A46613319...</td><td>3</td></tr>\n",
       "<tr><td>38CA8BCB4180F32BE...</td><td>2</td></tr>\n",
       "<tr><td>251012565308E6E0E...</td><td>1</td></tr>\n",
       "<tr><td>3AD3FD1E0FF005C66...</td><td>1</td></tr>\n",
       "<tr><td>E4CF46763B08F900D...</td><td>1</td></tr>\n",
       "<tr><td>F7A93AB6BC65E0D82...</td><td>1</td></tr>\n",
       "<tr><td>DA7B1EEFAB88421B4...</td><td>1</td></tr>\n",
       "<tr><td>96698E1A4288D2467...</td><td>1</td></tr>\n",
       "<tr><td>7A9728FFD700148BF...</td><td>1</td></tr>\n",
       "<tr><td>6502AF8DFACB2ED1E...</td><td>1</td></tr>\n",
       "<tr><td>0F9E0728AB1E40D5C...</td><td>2</td></tr>\n",
       "<tr><td>33C0DFB76CC438541...</td><td>1</td></tr>\n",
       "<tr><td>C7CD5A324582EFE88...</td><td>2</td></tr>\n",
       "<tr><td>FE070CB6D45F0E2DB...</td><td>1</td></tr>\n",
       "</table>\n",
       "only showing top 20 rows\n"
      ],
      "text/plain": [
       "+--------------------+-----+\n",
       "|           medallion|count|\n",
       "+--------------------+-----+\n",
       "|764CA5AE502C0FEC9...|    4|\n",
       "|9771700E1AE5E87B2...|    2|\n",
       "|DDB3F3E0172B1FBF0...|    4|\n",
       "|D8355B560482C567F...|    1|\n",
       "|5E162F2D7F5699497...|    3|\n",
       "|29111C0EE74A4E682...|    1|\n",
       "|4728FA63A46613319...|    3|\n",
       "|38CA8BCB4180F32BE...|    2|\n",
       "|251012565308E6E0E...|    1|\n",
       "|3AD3FD1E0FF005C66...|    1|\n",
       "|E4CF46763B08F900D...|    1|\n",
       "|F7A93AB6BC65E0D82...|    1|\n",
       "|DA7B1EEFAB88421B4...|    1|\n",
       "|96698E1A4288D2467...|    1|\n",
       "|7A9728FFD700148BF...|    1|\n",
       "|6502AF8DFACB2ED1E...|    1|\n",
       "|0F9E0728AB1E40D5C...|    2|\n",
       "|33C0DFB76CC438541...|    1|\n",
       "|C7CD5A324582EFE88...|    2|\n",
       "|FE070CB6D45F0E2DB...|    1|\n",
       "+--------------------+-----+\n",
       "only showing top 20 rows"
      ]
     },
     "execution_count": 202,
     "metadata": {},
     "output_type": "execute_result"
    }
   ],
   "source": [
    "spark.table(table_name).groupBy('medallion').agg(F.count('*').alias('count'))"
   ]
  },
  {
   "cell_type": "markdown",
   "id": "74a46c68-44ab-4e3a-90fb-d334423e4acc",
   "metadata": {},
   "source": [
    "## The project starts here\n",
    "\n",
    "You can create a"
   ]
  },
  {
   "cell_type": "code",
   "execution_count": 193,
   "id": "5c205d26-eae3-406a-beb2-808e4ad41dd5",
   "metadata": {},
   "outputs": [],
   "source": [
    "import pyspark.sql.functions as F\n",
    "from pyspark.sql.window import Window\n",
    "\n",
    "# Sort the dataset by medallion (taxi ID) and pickup_datetime\n",
    "df = spark.table(table_name).orderBy('medallion', 'pickup_datetime')\n",
    "\n",
    "#Calculate Idle Time\n",
    "window_spec = Window.partitionBy('medallion').orderBy('pickup_datetime')\n",
    "df = df.withColumn('prev_dropoff', F.lag('dropoff_datetime').over(window_spec))\n",
    "df = df.withColumn('idle_time', F.unix_timestamp('pickup_datetime') - F.unix_timestamp('prev_dropoff'))\n",
    "df = df.fillna(0, subset=\"idle_time\")\n",
    "df = df.withColumn(\"idle_time\", F.when(col(\"idle_time\") >= 14400, 0).otherwise(F.col(\"idle_time\")))"
   ]
  },
  {
   "cell_type": "code",
   "execution_count": 180,
   "id": "c41919ab-501f-48c8-ae06-9068bff5fb40",
   "metadata": {},
   "outputs": [],
   "source": [
    "#!pip install geopandas"
   ]
  },
  {
   "cell_type": "code",
   "execution_count": 194,
   "id": "2aa75740-e855-41ed-bc91-17072626d67e",
   "metadata": {},
   "outputs": [],
   "source": [
    "import geopandas as gpd\n",
    "from shapely.geometry import Point\n",
    "\n",
    "geojson_path = 'Borough Boundaries.geojson'\n",
    "gdf = gpd.read_file(geojson_path)\n",
    "\n",
    "# Function to get borough from latitude and longitude from New York Borough Boundaries.geojson\n",
    "def get_borough(lat, lon):\n",
    "    point = Point(lon, lat)  # Note: Point takes (lon, lat)\n",
    "    for idx, row in gdf.iterrows():\n",
    "        if row['geometry'].contains(point):\n",
    "            return row['boro_name']\n",
    "    return None\n",
    "\n",
    "# Register the function as a UDF\n",
    "get_borough_udf = F.udf(get_borough)\n",
    "\n",
    "# Apply the UDF to get the dropoff borough\n",
    "df = df.withColumn('dropoff_borough', get_borough_udf(F.col('dropoff_latitude'), F.col('dropoff_longitude')))\n",
    "\n",
    "# Add the pickup borough using the same UDF\n",
    "df = df.withColumn('pickup_borough', get_borough_udf(F.col('pickup_latitude'), F.col('pickup_longitude')))"
   ]
  },
  {
   "cell_type": "markdown",
   "id": "c24187ef-e5b4-4fa7-bab5-60aa94412a05",
   "metadata": {},
   "source": [
    "## [Query 1] Utilization over a window of 5, 10, and 15 minutes per taxi/driver. This can be computed by computing the idle time per taxi. How does it change? Is there an optimal window?"
   ]
  },
  {
   "cell_type": "code",
   "execution_count": 206,
   "id": "0eee6631-f03c-4614-8eb1-869606a97a41",
   "metadata": {},
   "outputs": [
    {
     "name": "stdout",
     "output_type": "stream",
     "text": [
      "+--------------------+-------------------+\n",
      "|           medallion|        utilization|\n",
      "+--------------------+-------------------+\n",
      "|12B46A3AAAEAD5086...| 0.1956521739130435|\n",
      "|1CA1F43CA75E2744B...|             0.3875|\n",
      "|318C8A3F7A86A2AEB...|              0.375|\n",
      "|34346632EF1C76656...|0.34782608695652173|\n",
      "|3A00BD8BD96A8EFF2...| 0.6363636363636364|\n",
      "|6816A8A4203980A7D...|0.28888888888888886|\n",
      "|69AAA9E6753311E71...| 0.4230769230769231|\n",
      "|69F42CD1BA72F0F09...| 0.2807017543859649|\n",
      "|77E20B11A5C1BC89F...| 0.7368421052631579|\n",
      "|8B17A20F99817F975...| 0.7368421052631579|\n",
      "|9771700E1AE5E87B2...| 0.5079365079365079|\n",
      "|9BB934828EB711E57...| 0.3793103448275862|\n",
      "|A5179D5A72336EEDF...|                0.6|\n",
      "|ACBED2EC7C4E0B579...| 0.7692307692307693|\n",
      "|CA2E404BE3197B507...| 0.7638888888888888|\n",
      "|D22FDB926D6B57441...|0.19148936170212766|\n",
      "|E0AA965A6EF756AD2...|0.21428571428571427|\n",
      "|E198E8F9086B386D5...| 0.4482758620689655|\n",
      "+--------------------+-------------------+\n",
      "\n",
      "+--------------------+-------------------+\n",
      "|           medallion|        utilization|\n",
      "+--------------------+-------------------+\n",
      "|0B57B9633A2FECD3D...|0.42617707267144317|\n",
      "|0C5296F3C8B16E702...| 0.6132768361581921|\n",
      "|12B46A3AAAEAD5086...|0.32727272727272727|\n",
      "|15D1318EA014FD9A9...|0.35185185185185186|\n",
      "|1944EB168702ED8E6...| 0.1354097426645143|\n",
      "|1CA1F43CA75E2744B...|             0.3875|\n",
      "|2111CFA825ECEE943...| 0.8333333333333334|\n",
      "|226AD0C39152736E9...|               0.36|\n",
      "|24929E5F008DBC4C0...|0.18621320725941742|\n",
      "|26B6CDD419985C6F5...| 0.8493771234428086|\n",
      "|2D4B95E2FA7B2E851...|  0.361852038248616|\n",
      "|312E0CB058D7FC1A6...|0.18522267206477733|\n",
      "|318C8A3F7A86A2AEB...|              0.375|\n",
      "|32D306FD3A4D7CEDC...| 0.1876801152737752|\n",
      "|3349F919AA8AE5DC9...| 0.8167069382119434|\n",
      "|34346632EF1C76656...|0.34782608695652173|\n",
      "|3A00BD8BD96A8EFF2...|               0.75|\n",
      "|4728FA63A46613319...| 0.1730310262529833|\n",
      "|4C005EEBAA7BF26B8...| 0.8903476331360947|\n",
      "|50296A056AF5D2215...|0.21842105263157896|\n",
      "+--------------------+-------------------+\n",
      "only showing top 20 rows\n",
      "\n",
      "+--------------------+-------------------+\n",
      "|           medallion|        utilization|\n",
      "+--------------------+-------------------+\n",
      "|0B57B9633A2FECD3D...|0.42617707267144317|\n",
      "|0C5296F3C8B16E702...| 0.6132768361581921|\n",
      "|12B46A3AAAEAD5086...|0.32727272727272727|\n",
      "|15D1318EA014FD9A9...|0.35185185185185186|\n",
      "|1944EB168702ED8E6...| 0.1354097426645143|\n",
      "|1CA1F43CA75E2744B...|             0.3875|\n",
      "|2111CFA825ECEE943...| 0.8333333333333334|\n",
      "|226AD0C39152736E9...|               0.36|\n",
      "|24929E5F008DBC4C0...|0.18621320725941742|\n",
      "|26B6CDD419985C6F5...| 0.8493771234428086|\n",
      "|2D4B95E2FA7B2E851...|  0.361852038248616|\n",
      "|312E0CB058D7FC1A6...|0.18522267206477733|\n",
      "|318C8A3F7A86A2AEB...|              0.375|\n",
      "|32D306FD3A4D7CEDC...| 0.1876801152737752|\n",
      "|3349F919AA8AE5DC9...| 0.8167069382119434|\n",
      "|34346632EF1C76656...|0.34782608695652173|\n",
      "|3A00BD8BD96A8EFF2...|               0.75|\n",
      "|4728FA63A46613319...| 0.1730310262529833|\n",
      "|4C005EEBAA7BF26B8...| 0.8903476331360947|\n",
      "|50296A056AF5D2215...|0.21842105263157896|\n",
      "+--------------------+-------------------+\n",
      "only showing top 20 rows\n",
      "\n",
      "Average utilization for 5 minutes window: 0.4601728401695474\n",
      "Average utilization for 10 minutes window: 0.4508774482862545\n",
      "Average utilization for 15 minutes window: 0.4508774482862545\n"
     ]
    }
   ],
   "source": [
    "time_windows = [5, 10, 15]\n",
    "max_timestamp = df.agg(F.max('timestamp')).collect()[0][0]\n",
    "\n",
    "# Calculate idle time, passenger road time, and empty road time\n",
    "has_passengers = F.when(F.col('passenger_count') > 0, 1).otherwise(0)\n",
    "no_passengers = F.when(F.col('passenger_count') == 0, 1).otherwise(0)\n",
    "\n",
    "# Initialize an empty list to store the results\n",
    "results = []\n",
    "\n",
    "\n",
    "# Iterate over each time window\n",
    "for window in time_windows:    \n",
    "    # Filter the data for the current time window\n",
    "    window_df = df.filter(F.col('timestamp') >= F.lit(max_timestamp) - F.expr(f\"INTERVAL {window} MINUTE\"))\n",
    "\n",
    "    window_agg = window_df.groupBy('medallion').agg(\n",
    "        F.sum('idle_time').alias('idle_time'),\n",
    "        F.sum(F.col('trip_time_in_secs') * has_passengers).alias('passenger_road_time'),\n",
    "        F.sum(F.col('trip_time_in_secs') * no_passengers).alias('empty_road_time')\n",
    "    )\n",
    "\n",
    "    # Calculate utilization\n",
    "    window_agg = window_agg.withColumn(\n",
    "        'utilization',\n",
    "        F.col('passenger_road_time') / (\n",
    "            F.col('idle_time') + F.col('empty_road_time') + F.col('passenger_road_time')\n",
    "        )\n",
    "    )\n",
    "    window_agg.filter(F.col('utilization') < 1.0).select(\"medallion\", \"utilization\").show()\n",
    "\n",
    "    # Calculate average utilization for the current window\n",
    "    avg_utilization = window_agg.filter(F.col('utilization') < 1.0).agg(F.mean('utilization')).collect()[0][0]\n",
    "    \n",
    "    # Append the result to the list\n",
    "    results.append((window, avg_utilization))\n",
    "\n",
    "# Display the results\n",
    "for window, avg_utilization in results:\n",
    "    print(f\"Average utilization for {window} minutes window: {avg_utilization}\")\n"
   ]
  },
  {
   "cell_type": "markdown",
   "id": "6746caef-fc7c-4d0e-98df-cdd6046393eb",
   "metadata": {},
   "source": [
    "## [Query 2] The average time it takes for a taxi to find its next fare(trip) per destination borough. This can be computed by finding the time difference, e.g. in seconds, between the trip's drop off and the next trip's pick up within a given unit of time"
   ]
  },
  {
   "cell_type": "code",
   "execution_count": 207,
   "id": "6bea404b-fc76-48f9-83d9-5946617863de",
   "metadata": {},
   "outputs": [
    {
     "name": "stdout",
     "output_type": "stream",
     "text": [
      "+---------------+------------------+\n",
      "|dropoff_borough|     avg_idle_time|\n",
      "+---------------+------------------+\n",
      "|         Queens|            7002.0|\n",
      "|       Brooklyn|          2005.375|\n",
      "|      Manhattan|3257.0476190476193|\n",
      "+---------------+------------------+\n",
      "\n"
     ]
    },
    {
     "data": {
      "image/png": "[encoded data removed]",
      "text/plain": [
       "<Figure size 1200x600 with 1 Axes>"
      ]
     },
     "metadata": {},
     "output_type": "display_data"
    }
   ],
   "source": [
    "import pandas as pd\n",
    "import matplotlib.pyplot as plt\n",
    "\n",
    "unit_of_time = \"10 MINUTE\"\n",
    "max_timestamp = df.agg(F.max('timestamp')).collect()[0][0]\n",
    "\n",
    "# Group by dropoff borough and calculate the average idle time\n",
    "borough_idle_time = df.filter((F.col('idle_time') > 0) & F.col('dropoff_borough').isNotNull() & (F.col('timestamp') >= F.lit(max_timestamp) - F.expr(f\"INTERVAL {unit_of_time}\"))\n",
    "                             ).groupBy('dropoff_borough').agg(F.mean('idle_time').alias('avg_idle_time'))\n",
    "\n",
    "# Display the results\n",
    "borough_idle_time.show()\n",
    "\n",
    "# Convert to Pandas for easier analysis and display\n",
    "borough_idle_time_pdf = borough_idle_time.toPandas()\n",
    "\n",
    "# Plotting the results\n",
    "plt.figure(figsize=(12, 6))\n",
    "plt.bar(borough_idle_time_pdf['dropoff_borough'], borough_idle_time_pdf['avg_idle_time'], color='skyblue')\n",
    "plt.title('Average Idle Time to Find Next Fare per Borough')\n",
    "plt.xlabel('Dropoff Borough')\n",
    "plt.ylabel('Average Idle Time (seconds)')\n",
    "plt.xticks(rotation=45)\n",
    "plt.grid(True)\n",
    "plt.show()"
   ]
  },
  {
   "cell_type": "markdown",
   "id": "8268c285-d55c-4be3-8e5a-e7ddebb14153",
   "metadata": {},
   "source": [
    "## [Query 3] The number of trips that started and ended within the same borough in the last hour"
   ]
  },
  {
   "cell_type": "code",
   "execution_count": 198,
   "id": "b7e7ad21-59c2-4d4c-befe-9d1ceedbb74d",
   "metadata": {},
   "outputs": [
    {
     "name": "stdout",
     "output_type": "stream",
     "text": [
      "The number of trips that started and ended within the same borough in the last hour: 857\n"
     ]
    }
   ],
   "source": [
    "# Filter trips that started and ended within the same borough\n",
    "same_borough_trips = df.filter(F.col('pickup_borough') == F.col('dropoff_borough'))\n",
    "\n",
    "# Filter trips in the last hour\n",
    "same_borough_trips_last_hour = same_borough_trips.filter(\n",
    "    F.col('timestamp') >= F.lit(max_timestamp) - F.expr(\"INTERVAL 1 HOUR\")\n",
    ")\n",
    "\n",
    "print(f\"The number of trips that started and ended within the same borough in the last hour: {same_borough_trips_last_hour.count()}\")"
   ]
  },
  {
   "cell_type": "markdown",
   "id": "41d0d685-c3ed-4b7d-8ebc-c3174ba55645",
   "metadata": {},
   "source": [
    "## [Query 4] The number of trips that started in one borough and ended in another one in the last hour"
   ]
  },
  {
   "cell_type": "code",
   "execution_count": 199,
   "id": "f1f3578b-1960-4969-801b-adc2f45493a9",
   "metadata": {},
   "outputs": [
    {
     "name": "stdout",
     "output_type": "stream",
     "text": [
      "The number of trips that started and ended within the different borough in the last hour: 197\n"
     ]
    }
   ],
   "source": [
    "different_borough_trips = df.filter(F.col('pickup_borough') != F.col('dropoff_borough'))\n",
    "different_borough_trips_last_hour = different_borough_trips.filter(\n",
    "    F.col('timestamp') >= F.lit(max_timestamp) - F.expr(\"INTERVAL 1 HOUR\")\n",
    ")\n",
    "\n",
    "print(f\"The number of trips that started and ended within the different borough in the last hour: {different_borough_trips_last_hour.count()}\")"
   ]
  },
  {
   "cell_type": "code",
   "execution_count": null,
   "id": "278dc530-206b-4a37-91f1-7dbc6f5324a8",
   "metadata": {},
   "outputs": [],
   "source": []
  }
 ],
 "metadata": {
  "kernelspec": {
   "display_name": "Python 3 (ipykernel)",
   "language": "python",
   "name": "python3"
  },
  "language_info": {
   "codemirror_mode": {
    "name": "ipython",
    "version": 3
   },
   "file_extension": ".py",
   "mimetype": "text/x-python",
   "name": "python",
   "nbconvert_exporter": "python",
   "pygments_lexer": "ipython3",
   "version": "3.11.7"
  }
 },
 "nbformat": 4,
 "nbformat_minor": 5
}
