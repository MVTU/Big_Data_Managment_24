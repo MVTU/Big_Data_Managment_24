{
 "cells": [
  {
   "cell_type": "markdown",
   "id": "51c428c8-c7f9-4653-a9f9-61a25a0d27c3",
   "metadata": {},
   "source": [
    "# Analysing New York City Taxi Data with Spark"
   ]
  },
  {
   "cell_type": "code",
   "execution_count": 3,
   "id": "25ff3303-332f-4d59-9b5f-cf764fc7840b",
   "metadata": {},
   "outputs": [
    {
     "name": "stdout",
     "output_type": "stream",
     "text": [
      "Requirement already satisfied: shapely in /opt/conda/lib/python3.11/site-packages (2.0.4)\n",
      "Requirement already satisfied: numpy<3,>=1.14 in /opt/conda/lib/python3.11/site-packages (from shapely) (1.26.4)\n",
      "Note: you may need to restart the kernel to use updated packages.\n"
     ]
    }
   ],
   "source": [
    " pip install shapely"
   ]
  },
  {
   "cell_type": "code",
   "execution_count": 67,
   "id": "989e3658-f710-499d-b397-1f2f010ce5ee",
   "metadata": {},
   "outputs": [],
   "source": [
    "from collections import defaultdict\n",
    "\n",
    "from pyspark.sql.window import Window\n",
    "from pyspark.sql.functions import (\n",
    "    lead, lag, unix_timestamp, \n",
    "    when, col, sum\n",
    ")\n",
    "import pyspark\n",
    "import json\n",
    "from shapely import *\n",
    "from shapely.geometry import shape\n",
    "\n",
    "\n",
    "builder = pyspark.sql.SparkSession.builder.appName(\"DF2_Practice\") \\\n",
    "    .config(\"spark.sql.extensions\", \"io.delta.sql.DeltaSparkSessionExtension\") \\\n",
    "    .config(\"spark.sql.catalog.spark_catalog\", \"org.apache.spark.sql.delta.catalog.DeltaCatalog\") \n",
    "\n",
    "spark = configure_spark_with_delta_pip(builder).getOrCreate()"
   ]
  },
  {
   "cell_type": "markdown",
   "id": "131c93ba-0f1f-40ec-bbfa-fd77b584d03b",
   "metadata": {},
   "source": [
    "## Loading data"
   ]
  },
  {
   "cell_type": "code",
   "execution_count": 68,
   "id": "a09d2c3e-1745-498a-8cea-20b5930e5e87",
   "metadata": {},
   "outputs": [],
   "source": [
    "# Load GeoJSON file\n",
    "with open('nyc-boroughs.geojson', 'r') as f:\n",
    "    data = json.load(f)\n",
    "\n",
    "boroughs = defaultdict(list)\n",
    "for feature in data['features']:\n",
    "    borough = feature['properties']['borough']\n",
    "    geom = shape(feature['geometry'])\n",
    "\n",
    "    boroughs[borough].append(geom)\n",
    "\n",
    "for borough, geoms in boroughs.items():\n",
    "    boroughs[borough] = unary_union(geoms)"
   ]
  },
  {
   "cell_type": "code",
   "execution_count": 74,
   "id": "daaa3e4f-1a62-4d5d-afac-4e866cb58fde",
   "metadata": {},
   "outputs": [],
   "source": [
    "iso_df = (spark.read\n",
    "          .option(\"header\",\"true\")\n",
    "          .option(\"inferSchema\",\"true\")\n",
    "          .csv(\"sample.csv\"))"
   ]
  },
  {
   "cell_type": "markdown",
   "id": "245a66b4-da1c-49ad-8b3e-dca3f7284973",
   "metadata": {},
   "source": [
    "## Preprocessing"
   ]
  },
  {
   "cell_type": "code",
   "execution_count": 75,
   "id": "6842e035-aaf7-4870-ae3b-db390e547c36",
   "metadata": {},
   "outputs": [],
   "source": [
    "window = Window.orderBy(\"pickup_datetime\").partitionBy(\"medallion\")\n",
    "\n",
    "iso_df = iso_df.withColumn(\n",
    "    \"prev_pickup\", lag(\"dropoff_datetime\").over(window)\n",
    ").withColumn(\n",
    "    \"delay\", unix_timestamp(\"pickup_datetime\") - unix_timestamp(\"prev_pickup\")\n",
    ").withColumn(\n",
    "    \"session_ind\", when(col(\"delay\") >= 14400, 'N').otherwise('Y')\n",
    ")"
   ]
  },
  {
   "cell_type": "code",
   "execution_count": 76,
   "id": "2850f1e8-42f8-452c-a3b8-d8614136900c",
   "metadata": {},
   "outputs": [],
   "source": [
    "def lkp_dict(long, lat):\n",
    "    point = Point(long, lat)\n",
    "    for borough, geom in boroughs.items():\n",
    "        if geom.contains(point):\n",
    "            return borough\n",
    "    return None\n",
    "\n",
    "lkp_udf = udf(lkp_dict, StringType())\n",
    "\n",
    "iso_df = iso_df.withColumn(\n",
    "    \"pickup_bur\", \n",
    "    lkp_udf(iso_df[\"pickup_longitude\"], iso_df[\"pickup_latitude\"])\n",
    ").withColumn(\n",
    "    \"dropoff_bur\", \n",
    "    lkp_udf(iso_df[\"dropoff_longitude\"], iso_df[\"dropoff_latitude\"])\n",
    ")"
   ]
  },
  {
   "cell_type": "markdown",
   "id": "7321aed8-1373-4d67-9a08-83e5f77246ba",
   "metadata": {},
   "source": [
    "## Query 1"
   ]
  },
  {
   "cell_type": "code",
   "execution_count": 77,
   "id": "c1720924-a3d6-49f4-90d2-9fbd45bad040",
   "metadata": {},
   "outputs": [
    {
     "name": "stdout",
     "output_type": "stream",
     "text": [
      "+--------------------+------------+\n",
      "|           medallion|driver_delay|\n",
      "+--------------------+------------+\n",
      "|000318C2E3E638158...|       17400|\n",
      "|002E3B405B6ABEA23...|       16140|\n",
      "|0030AD2648D81EE87...|         720|\n",
      "|0036961468659D0BF...|       19740|\n",
      "|0038EF45118925A51...|       15120|\n",
      "|0053334C798EC6C8E...|       22440|\n",
      "|005DED7D6E6C45441...|       11760|\n",
      "|005F00B38F46E2100...|       42180|\n",
      "|00790C7BAD30B7A9E...|       25320|\n",
      "|0094A03FFE6BAFBE0...|        5400|\n",
      "|009D3CCA83486B03F...|       40920|\n",
      "|00BD5D1AD3A96C997...|       12540|\n",
      "|00FB3D49C3DE5E002...|       14580|\n",
      "|012B65864B3BE97D6...|        6360|\n",
      "|012F172C0351A4767...|       40680|\n",
      "|01389E9CF7758ECAC...|        5460|\n",
      "|019AFB33C3153481B...|        9840|\n",
      "|01BD10395EF30144C...|        5940|\n",
      "|01C905F5CF4CD4D36...|        8340|\n",
      "|01D13A056D9A26F84...|       15480|\n",
      "+--------------------+------------+\n",
      "only showing top 20 rows\n",
      "\n"
     ]
    }
   ],
   "source": [
    "iso_df.filter(\n",
    "    iso_df.session_ind == 'Y'\n",
    ").groupBy(\"medallion\").agg(\n",
    "    sum(\"delay\").alias(\"driver_delay\")\n",
    ").filter(\n",
    "    col(\"driver_delay\").isNotNull()\n",
    ").show()"
   ]
  },
  {
   "cell_type": "markdown",
   "id": "163e9590-edf1-4c72-877c-a1757b21eb06",
   "metadata": {},
   "source": [
    "## Query 2"
   ]
  },
  {
   "cell_type": "code",
   "execution_count": 78,
   "id": "954faf6d-6b03-4b54-900f-e3ad4785341d",
   "metadata": {},
   "outputs": [
    {
     "name": "stdout",
     "output_type": "stream",
     "text": [
      "+-------------+------------------+\n",
      "|  dropoff_bur|     borough_delay|\n",
      "+-------------+------------------+\n",
      "|       Queens| 2021.051451187335|\n",
      "|     Brooklyn|1904.5495761150019|\n",
      "|Staten Island|             780.0|\n",
      "|    Manhattan| 1111.947757613042|\n",
      "|        Bronx| 2192.818791946309|\n",
      "+-------------+------------------+\n",
      "\n"
     ]
    }
   ],
   "source": [
    "iso_df.filter(\n",
    "    (iso_df.session_ind == 'Y') & \n",
    "    col(\"dropoff_bur\").isNotNull()\n",
    ").groupBy(\"dropoff_bur\").agg(\n",
    "    avg(\"delay\").alias(\"borough_delay\")\n",
    ").filter(\n",
    "    col(\"borough_delay\").isNotNull()\n",
    ").show()"
   ]
  },
  {
   "cell_type": "markdown",
   "id": "15080447-0397-4c38-b28d-1c719d0b5286",
   "metadata": {},
   "source": [
    "## Query 3"
   ]
  },
  {
   "cell_type": "code",
   "execution_count": 79,
   "id": "f5344189-1f9d-4b61-8efe-55fbe885dd9c",
   "metadata": {},
   "outputs": [
    {
     "name": "stdout",
     "output_type": "stream",
     "text": [
      "Amount of trips that start and end in the same borough: 86074\n"
     ]
    }
   ],
   "source": [
    "qry3 = iso_df.filter(iso_df.dropoff_bur == iso_df.pickup_bur).count()\n",
    "\n",
    "print(f\"Amount of trips that start and end in the same borough: {qry3}\")"
   ]
  },
  {
   "cell_type": "markdown",
   "id": "0b1c748c-feb1-4394-af45-e862e654788b",
   "metadata": {},
   "source": [
    "## Query 4"
   ]
  },
  {
   "cell_type": "code",
   "execution_count": 80,
   "id": "1d08d762-5ec0-47c9-8c85-58e18341f491",
   "metadata": {},
   "outputs": [
    {
     "name": "stdout",
     "output_type": "stream",
     "text": [
      "Amount of trips that do not start and end in the same borough: 11433\n"
     ]
    }
   ],
   "source": [
    "qry4 = iso_df.filter(iso_df.dropoff_bur != iso_df.pickup_bur).count()\n",
    "\n",
    "print(f\"Amount of trips that do not start and end in the same borough: {qry4}\")"
   ]
  }
 ],
 "metadata": {
  "kernelspec": {
   "display_name": "Python 3 (ipykernel)",
   "language": "python",
   "name": "python3"
  },
  "language_info": {
   "codemirror_mode": {
    "name": "ipython",
    "version": 3
   },
   "file_extension": ".py",
   "mimetype": "text/x-python",
   "name": "python",
   "nbconvert_exporter": "python",
   "pygments_lexer": "ipython3",
   "version": "3.11.9"
  }
 },
 "nbformat": 4,
 "nbformat_minor": 5
}
