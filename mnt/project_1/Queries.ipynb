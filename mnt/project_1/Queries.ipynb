{
 "cells": [
  {
   "cell_type": "markdown",
   "id": "51c428c8-c7f9-4653-a9f9-61a25a0d27c3",
   "metadata": {},
   "source": [
    "# Analysing New York City Taxi Data with Spark"
   ]
  },
  {
   "cell_type": "code",
   "execution_count": 3,
   "id": "25ff3303-332f-4d59-9b5f-cf764fc7840b",
   "metadata": {},
   "outputs": [
    {
     "name": "stdout",
     "output_type": "stream",
     "text": [
      "Requirement already satisfied: shapely in /opt/conda/lib/python3.11/site-packages (2.0.4)\n",
      "Requirement already satisfied: numpy<3,>=1.14 in /opt/conda/lib/python3.11/site-packages (from shapely) (1.26.4)\n",
      "Note: you may need to restart the kernel to use updated packages.\n"
     ]
    }
   ],
   "source": [
    " pip install shapely"
   ]
  },
  {
   "cell_type": "code",
   "execution_count": 101,
   "id": "989e3658-f710-499d-b397-1f2f010ce5ee",
   "metadata": {},
   "outputs": [],
   "source": [
    "from collections import defaultdict\n",
    "\n",
    "from pyspark.sql.window import Window\n",
    "from pyspark.sql.functions import (\n",
    "    lead, lag, unix_timestamp, \n",
    "    when, col, sum\n",
    ")\n",
    "import pyspark\n",
    "import json\n",
    "from shapely import *\n",
    "from shapely.geometry import shape\n",
    "\n",
    "\n",
    "builder = pyspark.sql.SparkSession.builder.appName(\"DF2_Practice\") \\\n",
    "    .config(\"spark.sql.extensions\", \"io.delta.sql.DeltaSparkSessionExtension\") \\\n",
    "    .config(\"spark.sql.catalog.spark_catalog\", \"org.apache.spark.sql.delta.catalog.DeltaCatalog\") \n",
    "\n",
    "spark = configure_spark_with_delta_pip(builder).getOrCreate()"
   ]
  },
  {
   "cell_type": "markdown",
   "id": "131c93ba-0f1f-40ec-bbfa-fd77b584d03b",
   "metadata": {},
   "source": [
    "## Loading data"
   ]
  },
  {
   "cell_type": "code",
   "execution_count": 102,
   "id": "a09d2c3e-1745-498a-8cea-20b5930e5e87",
   "metadata": {},
   "outputs": [],
   "source": [
    "# Load GeoJSON file\n",
    "with open('nyc-boroughs.geojson', 'r') as f:\n",
    "    data = json.load(f)\n",
    "\n",
    "boroughs = defaultdict(list)\n",
    "for feature in data['features']:\n",
    "    borough = feature['properties']['borough']\n",
    "    geom = shape(feature['geometry'])\n",
    "\n",
    "    boroughs[borough].append(geom)\n",
    "\n",
    "for borough, geoms in boroughs.items():\n",
    "    boroughs[borough] = unary_union(geoms)"
   ]
  },
  {
   "cell_type": "code",
   "execution_count": 103,
   "id": "daaa3e4f-1a62-4d5d-afac-4e866cb58fde",
   "metadata": {},
   "outputs": [],
   "source": [
    "iso_df = (spark.read\n",
    "          .option(\"header\",\"true\")\n",
    "          .option(\"inferSchema\",\"true\")\n",
    "          .csv(\"sample.csv\"))"
   ]
  },
  {
   "cell_type": "markdown",
   "id": "245a66b4-da1c-49ad-8b3e-dca3f7284973",
   "metadata": {},
   "source": [
    "## Preprocessing"
   ]
  },
  {
   "cell_type": "code",
   "execution_count": 104,
   "id": "6842e035-aaf7-4870-ae3b-db390e547c36",
   "metadata": {},
   "outputs": [],
   "source": [
    "window = Window.orderBy(\"pickup_datetime\").partitionBy(\"medallion\")\n",
    "\n",
    "iso_df = iso_df.withColumn(\n",
    "    \"prev_pickup\", lag(\"dropoff_datetime\").over(window)\n",
    ").withColumn(\n",
    "    \"delay\", unix_timestamp(\"pickup_datetime\") - unix_timestamp(\"prev_pickup\")\n",
    ").fillna(\n",
    "    0, subset=\"delay\"\n",
    ").withColumn(\n",
    "    \"delay\", when(col(\"delay\") >= 14400, 0).otherwise(col(\"delay\"))\n",
    ")"
   ]
  },
  {
   "cell_type": "code",
   "execution_count": 105,
   "id": "2850f1e8-42f8-452c-a3b8-d8614136900c",
   "metadata": {},
   "outputs": [],
   "source": [
    "def lkp_dict(long, lat):\n",
    "    point = Point(long, lat)\n",
    "    for borough, geom in boroughs.items():\n",
    "        if geom.contains(point):\n",
    "            return borough\n",
    "    return None\n",
    "\n",
    "lkp_udf = udf(lkp_dict, StringType())\n",
    "\n",
    "iso_df = iso_df.withColumn(\n",
    "    \"pickup_bur\", \n",
    "    lkp_udf(iso_df[\"pickup_longitude\"], iso_df[\"pickup_latitude\"])\n",
    ").withColumn(\n",
    "    \"dropoff_bur\", \n",
    "    lkp_udf(iso_df[\"dropoff_longitude\"], iso_df[\"dropoff_latitude\"])\n",
    ")"
   ]
  },
  {
   "cell_type": "markdown",
   "id": "7321aed8-1373-4d67-9a08-83e5f77246ba",
   "metadata": {},
   "source": [
    "## Query 1"
   ]
  },
  {
   "cell_type": "code",
   "execution_count": 106,
   "id": "c1720924-a3d6-49f4-90d2-9fbd45bad040",
   "metadata": {},
   "outputs": [
    {
     "name": "stdout",
     "output_type": "stream",
     "text": [
      "+--------------------+-------------------+\n",
      "|           medallion|        utilization|\n",
      "+--------------------+-------------------+\n",
      "|002E3B405B6ABEA23...| 0.3886363636363636|\n",
      "|0030AD2648D81EE87...| 0.7333333333333333|\n",
      "|0036961468659D0BF...|0.37213740458015265|\n",
      "|0038EF45118925A51...|0.41935483870967744|\n",
      "|0053334C798EC6C8E...| 0.2608695652173913|\n",
      "|005DED7D6E6C45441...| 0.4935400516795866|\n",
      "|005F00B38F46E2100...| 0.3060217176702863|\n",
      "|009E68CADCB1BCF73...|                1.0|\n",
      "|00BD5D1AD3A96C997...|0.44854881266490765|\n",
      "|00FB3D49C3DE5E002...| 0.5070993914807302|\n",
      "|012B65864B3BE97D6...|  0.511520737327189|\n",
      "|012F172C0351A4767...| 0.2848101265822785|\n",
      "|01389E9CF7758ECAC...|0.34532374100719426|\n",
      "|019AFB33C3153481B...|0.43252595155709345|\n",
      "|01BD10395EF30144C...|0.42105263157894735|\n",
      "|01C905F5CF4CD4D36...| 0.5304054054054054|\n",
      "|01D13A056D9A26F84...| 0.3333333333333333|\n",
      "|01D8C877762B42B4F...| 0.5126182965299685|\n",
      "|01DDF05F9C01F581E...| 0.3877995642701525|\n",
      "|01F9F5C3B207C3D05...|0.31802721088435376|\n",
      "+--------------------+-------------------+\n",
      "only showing top 20 rows\n",
      "\n"
     ]
    }
   ],
   "source": [
    "has_passengers = when(col(\"passenger_count\") > 0, 1).otherwise(0) \n",
    "no_passengers = when(col(\"passenger_count\") == 0, 1).otherwise(0) \n",
    "\n",
    "iso_df.groupBy(\"medallion\").agg(\n",
    "    sum(\"delay\").alias(\"idle_time\"),\n",
    "    sum(col(\"trip_time_in_secs\") * has_passengers).alias(\"passenger_road_time\"),\n",
    "    sum(col(\"trip_time_in_secs\") * no_passengers).alias(\"empty_road_time\")\n",
    ").withColumn(\n",
    "    \"utilization\", \n",
    "    col(\"passenger_road_time\") / (\n",
    "        col(\"idle_time\") + col(\"empty_road_time\") + col(\"passenger_road_time\")\n",
    "    )\n",
    ").select(\"medallion\", \"utilization\").show()"
   ]
  },
  {
   "cell_type": "markdown",
   "id": "163e9590-edf1-4c72-877c-a1757b21eb06",
   "metadata": {},
   "source": [
    "## Query 2"
   ]
  },
  {
   "cell_type": "code",
   "execution_count": 111,
   "id": "954faf6d-6b03-4b54-900f-e3ad4785341d",
   "metadata": {},
   "outputs": [
    {
     "name": "stdout",
     "output_type": "stream",
     "text": [
      "+-------------+------------------+\n",
      "|  dropoff_bur|     borough_delay|\n",
      "+-------------+------------------+\n",
      "|Staten Island|             780.0|\n",
      "|    Manhattan| 1127.095106255612|\n",
      "|     Brooklyn|1920.1200297287253|\n",
      "|       Queens|2041.3681172291297|\n",
      "|        Bronx| 2192.818791946309|\n",
      "+-------------+------------------+\n",
      "\n"
     ]
    }
   ],
   "source": [
    "iso_df.filter(\n",
    "    (iso_df.delay > 0) & col(\"dropoff_bur\").isNotNull()\n",
    ").groupBy(\"dropoff_bur\").agg(\n",
    "    avg(\"delay\").alias(\"borough_delay\")\n",
    ").orderBy(\"borough_delay\").show()"
   ]
  },
  {
   "cell_type": "markdown",
   "id": "15080447-0397-4c38-b28d-1c719d0b5286",
   "metadata": {},
   "source": [
    "## Query 3"
   ]
  },
  {
   "cell_type": "code",
   "execution_count": 108,
   "id": "f5344189-1f9d-4b61-8efe-55fbe885dd9c",
   "metadata": {},
   "outputs": [
    {
     "name": "stdout",
     "output_type": "stream",
     "text": [
      "Amount of trips that start and end in the same borough: 86074\n"
     ]
    }
   ],
   "source": [
    "qry3 = iso_df.filter(iso_df.dropoff_bur == iso_df.pickup_bur).count()\n",
    "\n",
    "print(f\"Amount of trips that start and end in the same borough: {qry3}\")"
   ]
  },
  {
   "cell_type": "markdown",
   "id": "0b1c748c-feb1-4394-af45-e862e654788b",
   "metadata": {},
   "source": [
    "## Query 4"
   ]
  },
  {
   "cell_type": "code",
   "execution_count": 109,
   "id": "1d08d762-5ec0-47c9-8c85-58e18341f491",
   "metadata": {},
   "outputs": [
    {
     "name": "stdout",
     "output_type": "stream",
     "text": [
      "Amount of trips that do not start and end in the same borough: 11433\n"
     ]
    }
   ],
   "source": [
    "qry4 = iso_df.filter(iso_df.dropoff_bur != iso_df.pickup_bur).count()\n",
    "\n",
    "print(f\"Amount of trips that do not start and end in the same borough: {qry4}\")"
   ]
  }
 ],
 "metadata": {
  "kernelspec": {
   "display_name": "Python 3 (ipykernel)",
   "language": "python",
   "name": "python3"
  },
  "language_info": {
   "codemirror_mode": {
    "name": "ipython",
    "version": 3
   },
   "file_extension": ".py",
   "mimetype": "text/x-python",
   "name": "python",
   "nbconvert_exporter": "python",
   "pygments_lexer": "ipython3",
   "version": "3.11.9"
  }
 },
 "nbformat": 4,
 "nbformat_minor": 5
}
