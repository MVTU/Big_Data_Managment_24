{
 "cells": [
  {
   "cell_type": "code",
   "execution_count": 72,
   "id": "25ff3303-332f-4d59-9b5f-cf764fc7840b",
   "metadata": {},
   "outputs": [
    {
     "name": "stdout",
     "output_type": "stream",
     "text": [
      "Requirement already satisfied: shapely in /opt/conda/lib/python3.11/site-packages (2.0.4)\n",
      "Requirement already satisfied: numpy<3,>=1.14 in /opt/conda/lib/python3.11/site-packages (from shapely) (1.26.4)\n",
      "Note: you may need to restart the kernel to use updated packages.\n"
     ]
    }
   ],
   "source": [
    " pip install shapely"
   ]
  },
  {
   "cell_type": "code",
   "execution_count": 73,
   "id": "989e3658-f710-499d-b397-1f2f010ce5ee",
   "metadata": {},
   "outputs": [],
   "source": [
    "\n",
    "from pyspark.sql.window import Window\n",
    "from pyspark.sql.functions import lead\n",
    "from pyspark.sql.functions import lag\n",
    "from pyspark.sql.functions import unix_timestamp\n",
    "from pyspark.sql.functions import to_timestamp\n",
    "from pyspark.sql.functions import when\n",
    "from pyspark.sql.functions import *\n",
    "import pyspark\n",
    "from delta import *\n",
    "import json\n",
    "from shapely import *\n",
    "from shapely.geometry import shape\n",
    "\n",
    "\n",
    "builder = pyspark.sql.SparkSession.builder.appName(\"DF2_Practice\") \\\n",
    "    .config(\"spark.sql.extensions\", \"io.delta.sql.DeltaSparkSessionExtension\") \\\n",
    "    .config(\"spark.sql.catalog.spark_catalog\", \"org.apache.spark.sql.delta.catalog.DeltaCatalog\") \n",
    "\n",
    "spark = configure_spark_with_delta_pip(builder).getOrCreate()"
   ]
  },
  {
   "cell_type": "code",
   "execution_count": 74,
   "id": "a09d2c3e-1745-498a-8cea-20b5930e5e87",
   "metadata": {},
   "outputs": [],
   "source": [
    "# Load GeoJSON file\n",
    "with open('nyc-boroughs.geojson', 'r') as f:\n",
    "    data = json.load(f)\n",
    "\n",
    "boroughs = {}\n",
    "for feature in data['features']:\n",
    "    borough = feature['properties']['borough']\n",
    "    geom = shape(feature['geometry'])\n",
    "\n",
    "    if borough in boroughs:\n",
    "        boroughs[borough]['geoms'].append(geom)\n",
    "    else:\n",
    "        boroughs[borough] = {'geoms': [geom]}\n",
    "\n",
    "for borough, data in boroughs.items():\n",
    "    combined_geom = unary_union(data['geoms'])\n",
    "    area = combined_geom.area\n",
    "    boroughs[borough] = {\n",
    "                         'geom': combined_geom}\n"
   ]
  },
  {
   "cell_type": "code",
   "execution_count": 75,
   "id": "daaa3e4f-1a62-4d5d-afac-4e866cb58fde",
   "metadata": {},
   "outputs": [],
   "source": [
    "\n",
    "iso_df = (spark.read\n",
    "          .option(\"header\",\"true\")\n",
    "          .option(\"inferSchema\",\"true\")\n",
    "          .csv(\"sample.csv\")\n",
    "         )\n"
   ]
  },
  {
   "cell_type": "code",
   "execution_count": 76,
   "id": "7395ed5f-7cba-4709-af78-797031482276",
   "metadata": {},
   "outputs": [],
   "source": [
    "window = Window.orderBy(\"dropoff_datetime\").partitionBy(\"medallion\")"
   ]
  },
  {
   "cell_type": "code",
   "execution_count": 77,
   "id": "6842e035-aaf7-4870-ae3b-db390e547c36",
   "metadata": {},
   "outputs": [],
   "source": [
    "iso_df = iso_df.withColumn(\"prev_pickup\", lag(\"dropoff_datetime\").over(window))\n",
    "iso_df = iso_df.withColumn(\"delay\", unix_timestamp(\"pickup_datetime\") - unix_timestamp(\"prev_pickup\"))\n",
    "iso_df = iso_df.withColumn(\"session_ind\", when(iso_df.delay >= 14400, 'N').otherwise('Y'))\n",
    "mean_delay_df = iso_df.filter(iso_df.session_ind == 'Y').groupBy(\"medallion\").agg(avg(\"delay\").alias(\"driver_delay\"))\n",
    "iso_df = iso_df.join(mean_delay_df, on=\"medallion\", how=\"left\")"
   ]
  },
  {
   "cell_type": "code",
   "execution_count": 78,
   "id": "2850f1e8-42f8-452c-a3b8-d8614136900c",
   "metadata": {},
   "outputs": [],
   "source": [
    "def lkp_dict(long, lat):\n",
    "    point = Point(long, lat)\n",
    "    for borough, data in boroughs.items():\n",
    "        if data['geom'].contains(point):\n",
    "            return borough\n",
    "    return None\n",
    "\n",
    "lkp_udf = udf(lkp_dict, StringType())\n",
    "\n",
    "df_iso_with_dict_values = iso_df.withColumn(\"pickup_bur\", lkp_udf(iso_df[\"pickup_longitude\"], iso_df[\"pickup_latitude\"]))\n",
    "df_iso_with_dict_values = df_iso_with_dict_values.withColumn(\"dropoff_bur\", lkp_udf(iso_df[\"dropoff_longitude\"], iso_df[\"dropoff_latitude\"]))\n"
   ]
  },
  {
   "cell_type": "code",
   "execution_count": 79,
   "id": "0847c9f4-ac0b-4dea-95ff-19b2bd95cf75",
   "metadata": {},
   "outputs": [],
   "source": [
    "bur_delay_df = df_iso_with_dict_values.filter(df_iso_with_dict_values.session_ind == 'Y').groupBy(\"dropoff_bur\").agg(avg(\"delay\").alias(\"borough_delay\"))\n",
    "bur_iso = df_iso_with_dict_values.join(bur_delay_df, on=\"dropoff_bur\", how=\"left\")"
   ]
  },
  {
   "cell_type": "code",
   "execution_count": 99,
   "id": "a8f191ba-9fc2-478d-a269-b5b943e34d87",
   "metadata": {},
   "outputs": [],
   "source": [
    "iso_df.head()\n",
    "\n",
    "sel = df_iso_with_dict_values.select(\"medallion\", \"pickup_datetime\", \"dropoff_datetime\", \"prev_pickup\", \"delay\",\"session_ind\",\"driver_delay\",\"pickup_bur\",\"dropoff_bur\")\n",
    "qry2 = bur_iso.select( \"dropoff_bur\",\"borough_delay\")\n",
    "\n",
    "qry1 = df_iso_with_dict_values.select(\"medallion\",  \"driver_delay\")\n",
    "\n",
    "qry3 = df_iso_with_dict_values.select(\"pickup_bur\",  \"dropoff_bur\")"
   ]
  },
  {
   "cell_type": "markdown",
   "id": "7321aed8-1373-4d67-9a08-83e5f77246ba",
   "metadata": {},
   "source": [
    "## Query1"
   ]
  },
  {
   "cell_type": "code",
   "execution_count": 100,
   "id": "627ec439-7985-4788-b7cb-50bafa9c4e71",
   "metadata": {},
   "outputs": [
    {
     "name": "stdout",
     "output_type": "stream",
     "text": [
      "+--------------------+------------------+\n",
      "|           medallion|      driver_delay|\n",
      "+--------------------+------------------+\n",
      "|5C9E006BB8CCE89AC...|             480.0|\n",
      "|380CC0362AA13BE55...| 849.2307692307693|\n",
      "|8107B2DEB1021A2F8...|             590.0|\n",
      "|B73668FE07B7EB48C...|368.57142857142856|\n",
      "|D1F80808FCF8729A0...|1797.2727272727273|\n",
      "|ABD4E623646A8BC94...|            1642.5|\n",
      "|F6BD3BC7A18920DB6...| 971.5384615384615|\n",
      "|1066F50D87BD0F9D8...|2146.6666666666665|\n",
      "|FCB1BF2054823AB4F...|            1252.0|\n",
      "|185D92FA910D5DD1E...| 859.0909090909091|\n",
      "|B6B2422ACEE398BEA...|1211.4285714285713|\n",
      "|54FB9ED06D1E0F0AF...|            4620.0|\n",
      "|6B6565187F637156C...| 729.4736842105264|\n",
      "|A47A97A6E57264A1C...|            1102.5|\n",
      "|98671307F40E392C4...|            5370.0|\n",
      "|7376BAC10BB8455E4...| 783.3333333333334|\n",
      "|6667FF102AFCA0CA9...|            1640.0|\n",
      "|7F32B2AA49B5E0F95...|            4440.0|\n",
      "|40DC4146B748648E9...|             650.0|\n",
      "|7DEB25123AE57111F...| 967.8260869565217|\n",
      "+--------------------+------------------+\n",
      "only showing top 20 rows\n",
      "\n"
     ]
    }
   ],
   "source": [
    "qry1.distinct().show()"
   ]
  },
  {
   "cell_type": "markdown",
   "id": "163e9590-edf1-4c72-877c-a1757b21eb06",
   "metadata": {},
   "source": [
    "## Query2"
   ]
  },
  {
   "cell_type": "code",
   "execution_count": 90,
   "id": "0533db05-d44f-4a24-89fd-52ff4a669d8e",
   "metadata": {},
   "outputs": [
    {
     "name": "stdout",
     "output_type": "stream",
     "text": [
      "+-------------+------------------+\n",
      "|  dropoff_bur|     borough_delay|\n",
      "+-------------+------------------+\n",
      "|Staten Island|             780.0|\n",
      "|    Manhattan| 1111.947757613042|\n",
      "|        Bronx| 2192.818791946309|\n",
      "|       Queens| 2021.051451187335|\n",
      "|     Brooklyn|1904.5495761150019|\n",
      "+-------------+------------------+\n",
      "\n"
     ]
    }
   ],
   "source": [
    "qry2.distinct().filter(qry2.dropoff_bur.isNotNull()).show()"
   ]
  },
  {
   "cell_type": "markdown",
   "id": "15080447-0397-4c38-b28d-1c719d0b5286",
   "metadata": {},
   "source": [
    "## Query3"
   ]
  },
  {
   "cell_type": "code",
   "execution_count": 101,
   "id": "f5344189-1f9d-4b61-8efe-55fbe885dd9c",
   "metadata": {},
   "outputs": [
    {
     "name": "stdout",
     "output_type": "stream",
     "text": [
      "Amount of trips that start and end in the same borough: 86074\n"
     ]
    }
   ],
   "source": [
    "print(\"Amount of trips that start and end in the same borough: \" + str(qry3.filter(qry3.dropoff_bur == qry3.pickup_bur).count()))\n"
   ]
  },
  {
   "cell_type": "markdown",
   "id": "0b1c748c-feb1-4394-af45-e862e654788b",
   "metadata": {},
   "source": [
    "## Query4"
   ]
  },
  {
   "cell_type": "code",
   "execution_count": 102,
   "id": "1d08d762-5ec0-47c9-8c85-58e18341f491",
   "metadata": {},
   "outputs": [
    {
     "name": "stdout",
     "output_type": "stream",
     "text": [
      "Amount of trips that do not start and end in the same borough: 11433\n"
     ]
    }
   ],
   "source": [
    "print(\"Amount of trips that do not start and end in the same borough: \" + str(qry3.filter(qry3.dropoff_bur != qry3.pickup_bur).count()))\n"
   ]
  },
  {
   "cell_type": "code",
   "execution_count": null,
   "id": "5f285f78-bfdd-4516-a08e-8e516a8dc361",
   "metadata": {},
   "outputs": [],
   "source": []
  }
 ],
 "metadata": {
  "kernelspec": {
   "display_name": "Python 3 (ipykernel)",
   "language": "python",
   "name": "python3"
  },
  "language_info": {
   "codemirror_mode": {
    "name": "ipython",
    "version": 3
   },
   "file_extension": ".py",
   "mimetype": "text/x-python",
   "name": "python",
   "nbconvert_exporter": "python",
   "pygments_lexer": "ipython3",
   "version": "3.11.7"
  }
 },
 "nbformat": 4,
 "nbformat_minor": 5
}
