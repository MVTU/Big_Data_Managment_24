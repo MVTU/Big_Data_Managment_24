{
 "cells": [
  {
   "cell_type": "markdown",
   "id": "7ce73406-1bd1-4f7f-a97a-5cacb48c3ee6",
   "metadata": {},
   "source": [
    "# Project3"
   ]
  },
  {
   "cell_type": "code",
   "execution_count": 1,
   "id": "27d1b87f-dede-404a-944f-5ed2a6237b90",
   "metadata": {},
   "outputs": [],
   "source": [
    "from collections import defaultdict\n",
    "\n",
    "from pyspark.sql.session import SparkSession\n",
    "from pyspark.sql.window import Window\n",
    "from pyspark.sql.functions import (\n",
    "    lead, lag, unix_timestamp, \n",
    "    when, col, sum, udf, avg\n",
    ")\n",
    "from pyspark.sql.types import StringType\n",
    "import pyspark\n",
    "\n",
    "from delta import *\n",
    "from delta.tables import *\n",
    "\n",
    "import json\n",
    "from pyspark.sql import SparkSession\n",
    "from pyspark.ml.feature import Tokenizer, StopWordsRemover, HashingTF, IDF, Word2Vec\n",
    "from pyspark.ml.clustering import KMeans\n",
    "from pyspark.ml.evaluation import ClusteringEvaluator\n",
    "from pyspark.ml.feature import PCA\n",
    "from pyspark.sql.functions import col, lower, regexp_replace\n",
    "import re\n",
    "from pyspark.sql.types import FloatType\n",
    "from pyspark.ml.linalg import Vectors\n",
    "from pyspark.sql.functions import lit\n",
    "import numpy as np\n",
    "\n",
    "\n",
    "\n",
    "builder = (\n",
    "    SparkSession.builder.appName(\"Refr\")\n",
    "    .config(\"spark.sql.extensions\", \n",
    "            \"io.delta.sql.DeltaSparkSessionExtension\")\n",
    "    .config(\"spark.sql.catalog.spark_catalog\", \n",
    "            \"org.apache.spark.sql.delta.catalog.DeltaCatalog\")\n",
    ")\n",
    "\n",
    "spark = configure_spark_with_delta_pip(builder).getOrCreate()"
   ]
  },
  {
   "cell_type": "markdown",
   "id": "9a810950-ea68-4329-ad37-e0de7f7e68ab",
   "metadata": {},
   "source": [
    "## Data discovery and processing"
   ]
  },
  {
   "cell_type": "code",
   "execution_count": 2,
   "id": "cfaf44a8-d048-44f2-9e25-c097c42a6bc6",
   "metadata": {},
   "outputs": [
    {
     "name": "stdout",
     "output_type": "stream",
     "text": [
      "root\n",
      " |-- abstract: string (nullable = true)\n",
      " |-- authors: array (nullable = true)\n",
      " |    |-- element: string (containsNull = true)\n",
      " |-- id: string (nullable = true)\n",
      " |-- n_citation: long (nullable = true)\n",
      " |-- references: array (nullable = true)\n",
      " |    |-- element: string (containsNull = true)\n",
      " |-- title: string (nullable = true)\n",
      " |-- venue: string (nullable = true)\n",
      " |-- year: long (nullable = true)\n",
      "\n",
      "+--------------------+--------------------+--------------------+----------+--------------------+--------------------+--------------------+----+\n",
      "|            abstract|             authors|                  id|n_citation|          references|               title|               venue|year|\n",
      "+--------------------+--------------------+--------------------+----------+--------------------+--------------------+--------------------+----+\n",
      "|The purpose of th...|[Makoto Satoh, Ry...|00127ee2-cb05-48c...|         0|[51c7e02e-f5ed-43...|Preliminary Desig...|international con...|2013|\n",
      "|This paper descri...|[Gareth Beale, Gr...|001c58d3-26ad-46b...|        50|[10482dd3-4642-41...|A methodology for...|visual analytics ...|2011|\n",
      "|This article appl...|[Altaf Hossain, F...|001c8744-73c4-4b0...|        50|[2d84c0f2-e656-4c...|Comparison of GAR...|pattern recogniti...|2009|\n",
      "|                NULL|[Jea-Bum Park, By...|00338203-9eb3-40c...|         0|[8c78e4b0-632b-42...|Development of Re...|                    |2011|\n",
      "|                NULL|[Giovanna Guerrin...|0040b022-1472-4f7...|         2|                NULL|Reasonig about Se...|                    |1998|\n",
      "+--------------------+--------------------+--------------------+----------+--------------------+--------------------+--------------------+----+\n",
      "only showing top 5 rows\n",
      "\n",
      "+-------+--------------------+--------------------+-----------------+-------------------------------------+--------------------+----------------+\n",
      "|summary|            abstract|                  id|       n_citation|                                title|               venue|            year|\n",
      "+-------+--------------------+--------------------+-----------------+-------------------------------------+--------------------+----------------+\n",
      "|  count|              753646|             1000000|          1000000|                              1000000|             1000000|         1000000|\n",
      "|   mean|                NULL|                NULL|         30.87573|                                 NULL|                NULL|     2006.365124|\n",
      "| stddev|                NULL|                NULL|137.9424731077886|                                 NULL|                NULL|7.83383289543234|\n",
      "|    min|\u000e\u000f\u0010\u0011 \u000e\u000f\u0010\u0011\u0012\u0013\u0014\u0015\u0015\u0016\u0017\u0018...|000000b8-7f59-49a...|                0|                 ! and ? – Storage...|                    |            1937|\n",
      "|    max|�����������������...|ffffe1e6-981e-4cf...|            73362|インパルス応答測定のための有色疑似...|worst-case execut...|            2017|\n",
      "+-------+--------------------+--------------------+-----------------+-------------------------------------+--------------------+----------------+\n",
      "\n"
     ]
    }
   ],
   "source": [
    "# Schema\n",
    "data = spark.read.format(\"json\").option(\"inferSchema\",\"true\").load(\"dblp-ref-0.json\")\n",
    "schema = data.schema\n",
    "\n",
    "for i in range(1, 4):\n",
    "    file_name = f\"dblp-ref-{i}.json\"\n",
    "    df = spark.read.json(file_name, schema=schema)\n",
    "    data = data.union(df)\n",
    "\n",
    "data.printSchema()\n",
    "data.show(5)\n",
    "data.describe().show()\n",
    "\n"
   ]
  },
  {
   "cell_type": "markdown",
   "id": "2f88c16b-a5db-4dfd-808b-4098096c241e",
   "metadata": {},
   "source": [
    "### Remove non-English titles"
   ]
  },
  {
   "cell_type": "code",
   "execution_count": 3,
   "id": "27ee5d62-1195-41fb-8717-9a248e82854a",
   "metadata": {},
   "outputs": [],
   "source": [
    "from pyspark.sql.functions import udf\n",
    "from pyspark.sql.types import BooleanType\n",
    "\n",
    "data = data.na.drop(subset=[\"title\"])\n",
    "\n",
    "# Ascii\n",
    "def is_ascii(s):\n",
    "    return all(ord(c) < 128 for c in s)\n",
    "\n",
    "# UDF\n",
    "is_ascii_udf = udf(is_ascii, BooleanType())\n",
    "\n",
    "\n",
    "# Filter\n",
    "df_eng = data.filter(is_ascii_udf(data['title']))\n",
    "\n",
    "#df_eng.show(5)\n",
    "\n"
   ]
  },
  {
   "cell_type": "markdown",
   "id": "86bf0518-4a3c-4b51-a7fe-7dc01e5f973f",
   "metadata": {},
   "source": [
    "### Remove stop words and lower case"
   ]
  },
  {
   "cell_type": "code",
   "execution_count": 4,
   "id": "03903bfa-606c-4857-a6d8-f9d6e87dfa31",
   "metadata": {},
   "outputs": [],
   "source": [
    "from pyspark.ml.feature import Tokenizer, StopWordsRemover\n",
    "\n",
    "# Lower\n",
    "df_eng = df_eng.withColumn(\"title\", lower(col(\"title\")))\n",
    "\n",
    "tokenizer = Tokenizer(inputCol=\"title\", outputCol=\"words\")\n",
    "df_eng = tokenizer.transform(df_eng)\n",
    "\n",
    "# Word list\n",
    "custom_stop_words = ['doi', 'preprint', 'copyright', 'peer', 'reviewed', 'org', 'https', 'et', 'al', 'author', 'figure','rights', 'reserved', 'permission', 'used', 'using', 'biorxiv', 'medrxiv', 'license', 'fig', 'fig.', 'al.', 'Elsevier', 'PMC', 'CZI', 'www']\n",
    "\n",
    "# Stop words\n",
    "stop_words = StopWordsRemover().getStopWords()\n",
    "\n",
    "stop_words = stop_words + custom_stop_words\n",
    "\n",
    "# StopWordRemover\n",
    "remover = StopWordsRemover(inputCol=\"words\", outputCol=\"filtered\", stopWords=stop_words)\n",
    "\n",
    "df_eng = remover.transform(df_eng)\n"
   ]
  },
  {
   "cell_type": "code",
   "execution_count": 5,
   "id": "2d6b3733-50ba-4611-866e-ed5e6d51bf70",
   "metadata": {},
   "outputs": [],
   "source": [
    "#print(stop_words)"
   ]
  },
  {
   "cell_type": "markdown",
   "id": "a065ed2b-1c05-4dad-a3c1-e2e446e154c0",
   "metadata": {},
   "source": [
    "### Regex"
   ]
  },
  {
   "cell_type": "code",
   "execution_count": 6,
   "id": "41212811-ca1d-4d79-8683-74e2c6b81d0e",
   "metadata": {},
   "outputs": [],
   "source": [
    "from pyspark.ml.feature import RegexTokenizer\n",
    "from pyspark.sql.functions import lower, col\n",
    "from pyspark.sql.functions import concat_ws\n",
    "\n",
    "# toString\n",
    "df_eng = df_eng.withColumn(\"filtered\", concat_ws(\" \", col(\"filtered\")))\n",
    "\n",
    "# Regex\n",
    "pattern = \"[!()-\\[\\]{};:'\\\"\\,<>./?@#$%^&*_~]\"\n",
    "\n",
    "# Regex transform\n",
    "tokenizer = RegexTokenizer(inputCol=\"filtered\", outputCol=\"low_filtered\", pattern=pattern, gaps=True)\n",
    "df_eng = tokenizer.transform(df_eng)\n",
    "\n",
    "\n"
   ]
  },
  {
   "cell_type": "code",
   "execution_count": 7,
   "id": "8b8e80a0-708b-40ee-9f6d-48d431b74b03",
   "metadata": {},
   "outputs": [],
   "source": [
    "#df_eng.select(\"low_filtered\").show(25)"
   ]
  },
  {
   "cell_type": "markdown",
   "id": "bb10bd9b-6160-4033-80da-937d7168b29d",
   "metadata": {},
   "source": [
    "### Word2Vec"
   ]
  },
  {
   "cell_type": "code",
   "execution_count": 8,
   "id": "1355b65f-911f-4a7b-bb87-575a382dbda7",
   "metadata": {},
   "outputs": [],
   "source": [
    "from pyspark.ml.feature import Word2Vec\n",
    "\n",
    "df_eng = df_eng.repartition(10)\n",
    "\n",
    "word2Vec = Word2Vec(vectorSize=5, minCount=2, inputCol=\"low_filtered\", outputCol=\"features\")\n",
    "\n",
    "# Fit the model\n",
    "model = word2Vec.fit(df_eng)\n",
    "\n",
    "# Transform the DataFrame\n",
    "result = model.transform(df_eng)\n"
   ]
  },
  {
   "cell_type": "code",
   "execution_count": 9,
   "id": "4866a07b-0cb7-4503-933e-20701dadbec9",
   "metadata": {},
   "outputs": [],
   "source": [
    "# Find synonyms\n",
    "#synonyms = model.findSynonyms('psychology', 5)\n",
    "#for word, cosine_distance in synonyms.collect():\n",
    "#    print(\"{}: {}\".format(word, cosine_distance))"
   ]
  },
  {
   "cell_type": "code",
   "execution_count": 10,
   "id": "3fb60504-4775-4158-8c7f-2e376e36a512",
   "metadata": {},
   "outputs": [],
   "source": [
    "result = result.drop('abstract','venue','year','authors','n_citation','references','words','filtered')"
   ]
  },
  {
   "cell_type": "code",
   "execution_count": 11,
   "id": "bd9b72ae-4e71-40d4-ab3f-63b507898e1d",
   "metadata": {},
   "outputs": [],
   "source": [
    "#result.show()"
   ]
  },
  {
   "cell_type": "markdown",
   "id": "a50448de-fe95-4667-a814-08135c1a2c40",
   "metadata": {},
   "source": [
    "#### Elbow method"
   ]
  },
  {
   "cell_type": "code",
   "execution_count": 15,
   "id": "3bdc857a-7f76-429e-b43d-a51f2da28860",
   "metadata": {},
   "outputs": [
    {
     "data": {
      "image/png": "[encoded data removed]",
      "text/plain": [
       "<Figure size 640x480 with 1 Axes>"
      ]
     },
     "metadata": {},
     "output_type": "display_data"
    }
   ],
   "source": [
    "# Calculate cost and plot\n",
    "import numpy as np\n",
    "import pandas as pd\n",
    "\n",
    "n=10\n",
    "cost = np.zeros(n)\n",
    "\n",
    "for k in range(2,n):\n",
    "    kmeans = KMeans(k=k, seed=3)\n",
    "    model = kmeans.fit(result)\n",
    "    #cost[k] = model.computeCost(transformed_data)\n",
    "    clusterdData = model.transform(result)\n",
    "    evaluator = ClusteringEvaluator()\n",
    "    cost[k] = evaluator.evaluate(clusterdData)\n",
    "\n",
    "# Plot the cost\n",
    "df_cost = pd.DataFrame(cost[2:])\n",
    "df_cost.columns = [\"cost\"]\n",
    "new_col = range(2,n)\n",
    "df_cost.insert(0, 'cluster', new_col)\n",
    "\n",
    "import pylab as pl\n",
    "pl.plot(df_cost.cluster, df_cost.cost)\n",
    "pl.xlabel('Number of Clusters')\n",
    "pl.ylabel('Score')\n",
    "pl.title('Elbow Curve')\n",
    "pl.show()"
   ]
  },
  {
   "cell_type": "markdown",
   "id": "81111827-fec6-4705-b25e-28627cff2384",
   "metadata": {},
   "source": [
    "K = 5"
   ]
  },
  {
   "cell_type": "code",
   "execution_count": 12,
   "id": "e30622f7-e97f-4c28-b1e9-f632a99f8198",
   "metadata": {},
   "outputs": [],
   "source": [
    "from pyspark.ml.clustering import KMeans\n",
    "from pyspark.ml.feature import PCA\n",
    "\n",
    "# Apply PCA\n",
    "pca = PCA(k=5, inputCol=\"features\", outputCol=\"pcaFeatures\")\n",
    "model = pca.fit(result)\n",
    "result = model.transform(result)\n",
    "\n",
    "# Apply KMeans\n",
    "kmeans = KMeans(k=5, seed=1, featuresCol=\"pcaFeatures\")  \n",
    "model = kmeans.fit(result.select('pcaFeatures'))\n",
    "predictions = model.transform(result)\n"
   ]
  },
  {
   "cell_type": "code",
   "execution_count": 13,
   "id": "e42cb8cf-a4c1-44ce-b36f-fdaf6414ed29",
   "metadata": {},
   "outputs": [],
   "source": [
    "#predictions.show()"
   ]
  },
  {
   "cell_type": "markdown",
   "id": "fb19a343-1b08-44b9-a7d7-0b8a49d366de",
   "metadata": {},
   "source": [
    "## Search engine"
   ]
  },
  {
   "cell_type": "code",
   "execution_count": 14,
   "id": "99d802ec-1318-4374-be45-541d9d0f3378",
   "metadata": {},
   "outputs": [
    {
     "name": "stdout",
     "output_type": "stream",
     "text": [
      "a query language solution for shortest path problems in cyclic geometrics.\n",
      "aligning supply chain strategy with product life cycle stages\n",
      "the research on the value experience in the brand culture of sushan and the design of product system service\n",
      "study on corba-based load balance algorithm\n",
      "a comprehensive model of usability\n"
     ]
    }
   ],
   "source": [
    "from pyspark.sql.functions import udf, col, lit\n",
    "from pyspark.sql.types import FloatType\n",
    "import numpy as np\n",
    "\n",
    "# Define the Euclidean distance function\n",
    "def euclidean_distance(vec1, vec2):\n",
    "    return float(np.linalg.norm(np.array(vec1) - np.array(vec2)))\n",
    "\n",
    "# Register the UDF\n",
    "udf_euclidean_distance = udf(euclidean_distance, FloatType())\n",
    "\n",
    "def find_related_titles(given_id):\n",
    "    # Get the row with the given ID\n",
    "    given_row = predictions.filter(predictions.id == given_id).collect()[0]\n",
    "    given_features = given_row['pcaFeatures']\n",
    "    \n",
    "    # Convert the features to a list\n",
    "    given_features_list = given_features.tolist()\n",
    "    \n",
    "    # Get the cluster of the given ID\n",
    "    given_cluster = given_row['prediction']\n",
    "    \n",
    "    # Filter the rows in the same cluster\n",
    "    cluster_rows = predictions.filter(predictions.prediction == given_cluster)\n",
    "    \n",
    "    # Compute the Euclidean distance to the given ID for each row\n",
    "    distances = cluster_rows.withColumn('distance', udf_euclidean_distance(col('pcaFeatures'), lit(given_features_list)))\n",
    "    \n",
    "    # Sort by distance and limit to top 5\n",
    "    sorted_rows = distances.sort('distance').limit(5)\n",
    "    \n",
    "    # Get the related titles\n",
    "    related_titles = sorted_rows.select('title').rdd.flatMap(lambda x: x).collect()\n",
    "    \n",
    "    return related_titles\n"
   ]
  },
  {
   "cell_type": "markdown",
   "id": "52ee171f-af9a-4c09-b895-239e4168e89d",
   "metadata": {},
   "source": [
    "### Search by Id"
   ]
  },
  {
   "cell_type": "markdown",
   "id": "641f7c16-b31d-4652-a6e8-4e35cd170df5",
   "metadata": {},
   "source": [
    "given_id = \"22dd3580-06bb-4e96-9f28-4bb3c3bc5eab\"\n",
    "related_titles = find_related_titles(given_id)\n",
    "\n",
    "# Print the related titles\n",
    "for title in related_titles:\n",
    "    print(title)"
   ]
  },
  {
   "cell_type": "markdown",
   "id": "9eb693ea-3683-4374-8913-fc28b3e99af3",
   "metadata": {},
   "source": [
    "## Possible next steps to improve the project :\n",
    "\n",
    "Enrich the data to include metadata about the articles to increase accuracy / \n",
    "Gather feedback for the same purpose /\n",
    "Include TF-IDF "
   ]
  }
 ],
 "metadata": {
  "kernelspec": {
   "display_name": "Python 3 (ipykernel)",
   "language": "python",
   "name": "python3"
  },
  "language_info": {
   "codemirror_mode": {
    "name": "ipython",
    "version": 3
   },
   "file_extension": ".py",
   "mimetype": "text/x-python",
   "name": "python",
   "nbconvert_exporter": "python",
   "pygments_lexer": "ipython3",
   "version": "3.11.7"
  }
 },
 "nbformat": 4,
 "nbformat_minor": 5
}
