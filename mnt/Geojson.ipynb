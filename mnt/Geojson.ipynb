{
 "cells": [
  {
   "cell_type": "code",
   "execution_count": 1,
   "id": "989e3658-f710-499d-b397-1f2f010ce5ee",
   "metadata": {},
   "outputs": [],
   "source": [
    "\n",
    "import pyspark\n",
    "from delta import *\n",
    "\n",
    "builder = pyspark.sql.SparkSession.builder.appName(\"DF2_Practice\") \\\n",
    "    .config(\"spark.sql.extensions\", \"io.delta.sql.DeltaSparkSessionExtension\") \\\n",
    "    .config(\"spark.sql.catalog.spark_catalog\", \"org.apache.spark.sql.delta.catalog.DeltaCatalog\") \n",
    "\n",
    "spark = configure_spark_with_delta_pip(builder).getOrCreate()"
   ]
  },
  {
   "cell_type": "code",
   "execution_count": 3,
   "id": "913fce7c-b626-4e91-bafd-96f120903549",
   "metadata": {},
   "outputs": [
    {
     "name": "stdout",
     "output_type": "stream",
     "text": [
      "\u001b[33mWARNING: Retrying (Retry(total=4, connect=None, read=None, redirect=None, status=None)) after connection broken by 'ReadTimeoutError(\"HTTPSConnectionPool(host='pypi.org', port=443): Read timed out. (read timeout=15)\")': /simple/shapely/\u001b[0m\u001b[33m\n",
      "\u001b[0m\u001b[33mWARNING: Retrying (Retry(total=3, connect=None, read=None, redirect=None, status=None)) after connection broken by 'ReadTimeoutError(\"HTTPSConnectionPool(host='pypi.org', port=443): Read timed out. (read timeout=15)\")': /simple/shapely/\u001b[0m\u001b[33m\n",
      "\u001b[0m\u001b[33mWARNING: Retrying (Retry(total=2, connect=None, read=None, redirect=None, status=None)) after connection broken by 'ReadTimeoutError(\"HTTPSConnectionPool(host='pypi.org', port=443): Read timed out. (read timeout=15)\")': /simple/shapely/\u001b[0m\u001b[33m\n",
      "\u001b[0mCollecting shapely\n",
      "\u001b[33m  WARNING: Retrying (Retry(total=4, connect=None, read=None, redirect=None, status=None)) after connection broken by 'ReadTimeoutError(\"HTTPSConnectionPool(host='files.pythonhosted.org', port=443): Read timed out. (read timeout=15)\")': /packages/d5/fb/bcf6a8164ed307c99f1a8fabe5acd86ac99a33f52530a3ca84b0936f95bd/shapely-2.0.4-cp311-cp311-manylinux_2_17_x86_64.manylinux2014_x86_64.whl.metadata\u001b[0m\u001b[33m\n",
      "\u001b[0m\u001b[33m  WARNING: Retrying (Retry(total=3, connect=None, read=None, redirect=None, status=None)) after connection broken by 'ReadTimeoutError(\"HTTPSConnectionPool(host='files.pythonhosted.org', port=443): Read timed out. (read timeout=15)\")': /packages/d5/fb/bcf6a8164ed307c99f1a8fabe5acd86ac99a33f52530a3ca84b0936f95bd/shapely-2.0.4-cp311-cp311-manylinux_2_17_x86_64.manylinux2014_x86_64.whl.metadata\u001b[0m\u001b[33m\n",
      "\u001b[0m  Downloading shapely-2.0.4-cp311-cp311-manylinux_2_17_x86_64.manylinux2014_x86_64.whl.metadata (7.0 kB)\n",
      "Requirement already satisfied: numpy<3,>=1.14 in /opt/conda/lib/python3.11/site-packages (from shapely) (1.26.4)\n",
      "Downloading shapely-2.0.4-cp311-cp311-manylinux_2_17_x86_64.manylinux2014_x86_64.whl (2.5 MB)\n",
      "\u001b[2K   \u001b[90m━━━━━━━━━━━━━━━━━━━━━━━━━━━━━━━━━━━━━━━━\u001b[0m \u001b[32m2.5/2.5 MB\u001b[0m \u001b[31m327.1 kB/s\u001b[0m eta \u001b[36m0:00:00\u001b[0m00:01\u001b[0m00:01\u001b[0m\n",
      "\u001b[?25hInstalling collected packages: shapely\n",
      "Successfully installed shapely-2.0.4\n",
      "Note: you may need to restart the kernel to use updated packages.\n"
     ]
    }
   ],
   "source": [
    " pip install shapely"
   ]
  },
  {
   "cell_type": "code",
   "execution_count": 9,
   "id": "0533db05-d44f-4a24-89fd-52ff4a669d8e",
   "metadata": {},
   "outputs": [
    {
     "name": "stdout",
     "output_type": "stream",
     "text": [
      "{'Staten Island': [<POLYGON ((-74.051 40.566, -74.05 40.566, -74.049 40.566, -74.049 40.565, -7...>, <POLYGON ((-74.053 40.578, -74.054 40.577, -74.055 40.578, -74.055 40.58, -7...>, <POLYGON ((-74.159 40.641, -74.16 40.641, -74.161 40.642, -74.161 40.644, -7...>, <POLYGON ((-74.082 40.648, -74.081 40.649, -74.081 40.648, -74.08 40.648, -7...>], 'Queens': [<POLYGON ((-73.837 40.595, -73.837 40.595, -73.836 40.594, -73.835 40.594, -...>, <POLYGON ((-73.813 40.604, -73.812 40.603, -73.811 40.603, -73.811 40.602, -...>, <POLYGON ((-73.827 40.608, -73.827 40.608, -73.826 40.608, -73.826 40.608, -...>, <POLYGON ((-73.826 40.608, -73.827 40.608, -73.828 40.608, -73.828 40.61, -7...>, <POLYGON ((-73.832 40.606, -73.835 40.605, -73.836 40.606, -73.834 40.607, -...>, <POLYGON ((-73.794 40.608, -73.794 40.606, -73.794 40.606, -73.795 40.607, -...>, <POLYGON ((-73.805 40.597, -73.805 40.597, -73.805 40.597, -73.805 40.597, -...>, <POLYGON ((-73.805 40.597, -73.805 40.597, -73.805 40.597, -73.805 40.598, -...>, <POLYGON ((-73.74 40.597, -73.74 40.597, -73.74 40.597, -73.74 40.597, -73.7...>, <POLYGON ((-73.739 40.597, -73.739 40.597, -73.739 40.597, -73.739 40.597))>, <POLYGON ((-73.791 40.595, -73.791 40.596, -73.791 40.596, -73.791 40.595))>, <POLYGON ((-73.767 40.615, -73.768 40.615, -73.774 40.616, -73.769 40.621, -...>, <POLYGON ((-73.798 40.627, -73.798 40.627, -73.797 40.627, -73.796 40.626, -...>, <POLYGON ((-73.813 40.629, -73.814 40.627, -73.813 40.628, -73.811 40.625, -...>, <POLYGON ((-73.823 40.639, -73.823 40.636, -73.822 40.634, -73.822 40.632, -...>, <POLYGON ((-73.859 40.653, -73.857 40.651, -73.857 40.651, -73.859 40.653))>, <POLYGON ((-73.859 40.653, -73.86 40.654, -73.859 40.654, -73.859 40.654, -7...>, <POLYGON ((-73.86 40.654, -73.861 40.655, -73.86 40.655, -73.86 40.654, -73....>, <POLYGON ((-73.83 40.655, -73.83 40.655, -73.83 40.656, -73.83 40.655))>, <POLYGON ((-73.891 40.776, -73.891 40.777, -73.891 40.777, -73.891 40.777, -...>], 'Brooklyn': [<POLYGON ((-73.867 40.582, -73.868 40.582, -73.869 40.582, -73.87 40.583, -7...>, <POLYGON ((-73.87 40.599, -73.87 40.597, -73.87 40.597, -73.87 40.599))>, <POLYGON ((-73.92 40.6, -73.92 40.6, -73.919 40.6, -73.919 40.599, -73.918 4...>, <POLYGON ((-73.87 40.599, -73.871 40.599, -73.87 40.603, -73.87 40.602, -73....>, <POLYGON ((-73.852 40.597, -73.854 40.597, -73.855 40.597, -73.855 40.596, -...>, <POLYGON ((-73.867 40.604, -73.868 40.603, -73.868 40.603, -73.868 40.604, -...>, <POLYGON ((-73.867 40.608, -73.869 40.607, -73.869 40.608, -73.868 40.609, -...>, <POLYGON ((-73.834 40.607, -73.836 40.606, -73.836 40.607, -73.834 40.609, -...>, <POLYGON ((-73.87 40.607, -73.871 40.605, -73.871 40.606, -73.872 40.608, -7...>, <POLYGON ((-73.855 40.616, -73.855 40.613, -73.852 40.613, -73.854 40.614, -...>, <POLYGON ((-73.843 40.618, -73.843 40.617, -73.844 40.617, -73.845 40.615, -...>, <POLYGON ((-73.833 40.627, -73.834 40.614, -73.834 40.614, -73.835 40.615, -...>, <POLYGON ((-73.871 40.617, -73.878 40.615, -73.875 40.624, -73.867 40.628, -...>, <POLYGON ((-73.833 40.627, -73.835 40.627, -73.833 40.628, -73.833 40.627))>, <POLYGON ((-73.847 40.629, -73.85 40.626, -73.847 40.627, -73.845 40.625, -7...>, <POLYGON ((-73.836 40.631, -73.841 40.625, -73.844 40.63, -73.842 40.632, -7...>, <POLYGON ((-73.847 40.632, -73.849 40.63, -73.859 40.63, -73.856 40.635, -73...>, <POLYGON ((-73.954 40.739, -73.952 40.739, -73.947 40.737, -73.946 40.737, -...>, <POLYGON ((-73.901 40.588, -73.901 40.587, -73.901 40.587, -73.901 40.588))>, <POLYGON ((-73.928 40.589, -73.928 40.589, -73.928 40.589, -73.929 40.589, -...>, <POLYGON ((-73.931 40.595, -73.932 40.594, -73.932 40.595, -73.931 40.595))>], 'Manhattan': [<POLYGON ((-74.011 40.684, -74.012 40.684, -74.012 40.684, -74.008 40.686, -...>, <POLYGON ((-74.005 40.688, -74.006 40.687, -74.008 40.687, -74.007 40.688, -...>, <POLYGON ((-74.004 40.689, -74.005 40.688, -74.007 40.689, -74.006 40.69, -7...>, <POLYGON ((-74.003 40.69, -74.003 40.69, -74.006 40.69, -74.005 40.691, -74....>, <POLYGON ((-74.044 40.69, -74.044 40.69, -74.043 40.69, -74.043 40.69, -74.0...>, <POLYGON ((-74.001 40.691, -74.001 40.691, -74.005 40.692, -74.004 40.693, -...>, <POLYGON ((-74.017 40.693, -74.015 40.693, -74.015 40.693, -74.015 40.693, -...>, <POLYGON ((-74.002 40.693, -74.002 40.692, -74.004 40.693, -74.003 40.694, -...>, <POLYGON ((-74.001 40.694, -74.001 40.694, -74.003 40.695, -74.002 40.696, -...>, <POLYGON ((-74 40.697, -74 40.697, -74 40.697, -73.999 40.697, -74 40.697, -...>, <POLYGON ((-73.998 40.698, -73.999 40.697, -74.001 40.698, -74 40.699, -73.9...>, <POLYGON ((-73.998 40.699, -74 40.699, -73.999 40.7, -73.997 40.7, -73.998 4...>, <POLYGON ((-74.04 40.701, -74.038 40.699, -74.038 40.699, -74.038 40.698, -7...>, <POLYGON ((-73.995 40.703, -73.997 40.701, -73.998 40.702, -73.996 40.703, -...>, <POLYGON ((-73.995 40.703, -73.995 40.703, -73.995 40.704, -73.995 40.703, -...>, <POLYGON ((-73.995 40.704, -73.995 40.704, -73.995 40.704, -73.995 40.704))>, <POLYGON ((-73.982 40.706, -73.982 40.706, -73.981 40.706, -73.981 40.706, -...>, <POLYGON ((-73.967 40.718, -73.967 40.718, -73.967 40.718, -73.967 40.718, -...>, <POLYGON ((-73.966 40.719, -73.966 40.719, -73.967 40.719, -73.967 40.719, -...>, <POLYGON ((-73.964 40.72, -73.964 40.72, -73.965 40.72, -73.964 40.72))>, <POLYGON ((-73.964 40.721, -73.964 40.721, -73.965 40.721, -73.965 40.721, -...>, <POLYGON ((-73.962 40.724, -73.962 40.724, -73.962 40.724, -73.962 40.724, -...>, <POLYGON ((-73.962 40.733, -73.962 40.733, -73.964 40.733, -73.964 40.733, -...>, <POLYGON ((-73.964 40.747, -73.965 40.746, -73.964 40.747, -73.964 40.747))>, <POLYGON ((-73.942 40.769, -73.943 40.768, -73.949 40.761, -73.952 40.758, -...>, <POLYGON ((-73.938 40.781, -73.938 40.781, -73.938 40.781, -73.938 40.781, -...>, <POLYGON ((-73.921 40.801, -73.92 40.799, -73.917 40.798, -73.915 40.797, -7...>, <POLYGON ((-73.926 40.878, -73.926 40.877, -73.926 40.877, -73.926 40.877, -...>, <POLYGON ((-73.907 40.876, -73.908 40.873, -73.908 40.873, -73.909 40.872, -...>], 'Bronx': [<POLYGON ((-73.897 40.796, -73.897 40.796, -73.898 40.796, -73.899 40.797, -...>, <POLYGON ((-73.889 40.799, -73.888 40.799, -73.888 40.799, -73.888 40.798, -...>, <POLYGON ((-73.898 40.802, -73.896 40.801, -73.899 40.799, -73.9 40.799, -73...>, <POLYGON ((-73.788 40.835, -73.789 40.834, -73.79 40.835, -73.788 40.835, -7...>, <POLYGON ((-73.802 40.842, -73.803 40.841, -73.805 40.841, -73.807 40.841, -...>, <POLYGON ((-73.781 40.856, -73.781 40.855, -73.782 40.855, -73.782 40.856, -...>, <POLYGON ((-73.783 40.856, -73.783 40.855, -73.784 40.855, -73.784 40.856, -...>, <POLYGON ((-73.792 40.852, -73.792 40.852, -73.79 40.852, -73.791 40.852, -7...>, <POLYGON ((-73.783 40.844, -73.783 40.844, -73.783 40.843, -73.783 40.844, -...>, <POLYGON ((-73.782 40.844, -73.782 40.844, -73.782 40.843, -73.782 40.844))>, <POLYGON ((-73.782 40.844, -73.782 40.844, -73.782 40.844, -73.782 40.844))>, <POLYGON ((-73.782 40.844, -73.781 40.845, -73.78 40.844, -73.781 40.844, -7...>, <POLYGON ((-73.768 40.854, -73.769 40.853, -73.769 40.853, -73.769 40.853, -...>, <POLYGON ((-73.785 40.86, -73.784 40.86, -73.785 40.86, -73.785 40.859, -73....>, <POLYGON ((-73.773 40.861, -73.773 40.861, -73.774 40.861, -73.773 40.862, -...>, <POLYGON ((-73.775 40.862, -73.775 40.861, -73.775 40.861, -73.775 40.861, -...>, <POLYGON ((-73.783 40.863, -73.783 40.863, -73.783 40.862, -73.783 40.862, -...>, <POLYGON ((-73.784 40.863, -73.784 40.863, -73.784 40.863, -73.784 40.863, -...>, <POLYGON ((-73.77 40.865, -73.77 40.865, -73.77 40.865, -73.77 40.866, -73.7...>, <POLYGON ((-73.767 40.867, -73.767 40.867, -73.768 40.867, -73.768 40.867, -...>, <POLYGON ((-73.771 40.872, -73.77 40.87, -73.773 40.871, -73.772 40.872, -73...>, <POLYGON ((-73.786 40.873, -73.787 40.873, -73.787 40.873, -73.786 40.873, -...>, <POLYGON ((-73.786 40.874, -73.786 40.874, -73.786 40.874, -73.786 40.874, -...>, <POLYGON ((-73.774 40.874, -73.775 40.874, -73.775 40.875, -73.774 40.875, -...>, <POLYGON ((-73.782 40.875, -73.783 40.875, -73.783 40.875, -73.782 40.875, -...>, <POLYGON ((-73.781 40.876, -73.781 40.876, -73.781 40.876, -73.781 40.877, -...>, <POLYGON ((-73.787 40.881, -73.786 40.881, -73.786 40.88, -73.787 40.88, -73...>, <POLYGON ((-73.873 40.904, -73.859 40.901, -73.859 40.901, -73.859 40.901, -...>, <POLYGON ((-73.805 40.815, -73.805 40.815, -73.805 40.815, -73.805 40.815, -...>, <POLYGON ((-73.804 40.813, -73.804 40.814, -73.804 40.814, -73.804 40.814, -...>]}\n",
      "{'Staten Island': 0.01604935817680098, 'Queens': 0.03019468843503742, 'Brooklyn': 0.0193814313975848, 'Manhattan': 0.006306320213518681, 'Bronx': 0.011778404880880338}\n"
     ]
    }
   ],
   "source": [
    "import json\n",
    "from shapely.geometry import shape\n",
    "from shapely.ops import unary_union\n",
    "\n",
    "# Load GeoJSON file\n",
    "with open('nyc-boroughs.geojson', 'r') as f:\n",
    "    data = json.load(f)\n",
    "\n",
    "# Initialize an empty dictionary to hold the boroughs and their corresponding geometries\n",
    "boroughs = {}\n",
    "\n",
    "# Iterate over features in the GeoJSON file\n",
    "for feature in data['features']:\n",
    "    # Get the borough and its geometry\n",
    "    borough = feature['properties']['borough']\n",
    "    geom = shape(feature['geometry'])\n",
    "\n",
    "    # If the borough is already in the dictionary, add the new geometry to the existing one\n",
    "    if borough in boroughs:\n",
    "        boroughs[borough].append(geom)\n",
    "    # Otherwise, add the borough to the dictionary with the geometry\n",
    "    else:\n",
    "        boroughs[borough] = [geom]\n",
    "print(boroughs)\n",
    "\n",
    "# Now, use unary_union to combine the geometries for each borough and calculate the area\n",
    "for borough, geoms in boroughs.items():\n",
    "    # Combine the geometries\n",
    "    combined_geom = unary_union(geoms)\n",
    "    # Calculate the area\n",
    "    area = combined_geom.area\n",
    "    # Replace the list of geometries in the dictionary with the area\n",
    "    boroughs[borough] = area\n",
    "\n",
    "# Now you have a dictionary where the keys are borough names and the values are their areas\n",
    "print(boroughs)\n"
   ]
  },
  {
   "cell_type": "code",
   "execution_count": 10,
   "id": "27652af9-69f6-492e-959e-65927abc5277",
   "metadata": {},
   "outputs": [
    {
     "name": "stdout",
     "output_type": "stream",
     "text": [
      "{'Staten Island': {'area': 0.01604935817680098, 'geom': <MULTIPOLYGON (((-74.049 40.566, -74.049 40.565, -74.05 40.565, -74.051 40.5...>}, 'Queens': {'area': 0.03019468843503742, 'geom': <MULTIPOLYGON (((-73.804 40.598, -73.803 40.599, -73.802 40.599, -73.801 40....>}, 'Brooklyn': {'area': 0.0193814313975848, 'geom': <MULTIPOLYGON (((-73.901 40.587, -73.901 40.587, -73.901 40.588, -73.901 40....>}, 'Manhattan': {'area': 0.006306320213518681, 'geom': <MULTIPOLYGON (((-74.008 40.686, -74.011 40.684, -74.012 40.684, -74.012 40....>}, 'Bronx': {'area': 0.011778404880880338, 'geom': <MULTIPOLYGON (((-73.888 40.798, -73.887 40.798, -73.884 40.796, -73.884 40....>}}\n"
     ]
    }
   ],
   "source": [
    "# Load GeoJSON file\n",
    "with open('nyc-boroughs.geojson', 'r') as f:\n",
    "    data = json.load(f)\n",
    "\n",
    "# Initialize an empty dictionary to hold the boroughs and their corresponding geometries\n",
    "boroughs = {}\n",
    "for feature in data['features']:\n",
    "    borough = feature['properties']['borough']\n",
    "    geom = shape(feature['geometry'])\n",
    "\n",
    "    if borough in boroughs:\n",
    "        boroughs[borough]['geoms'].append(geom)\n",
    "    else:\n",
    "        boroughs[borough] = {'geoms': [geom]}\n",
    "\n",
    "for borough, data in boroughs.items():\n",
    "    combined_geom = unary_union(data['geoms'])\n",
    "    area = combined_geom.area\n",
    "    boroughs[borough] = {'area': area, 'geom': combined_geom}\n",
    "\n",
    "print(boroughs)\n",
    "\n",
    "\n",
    "# Proovi kas alad klapivad ja kuidas.\n",
    "# Kuidas käib punkti määramine ühte kujundisee?\n"
   ]
  },
  {
   "cell_type": "code",
   "execution_count": null,
   "id": "b6ae9232-0d59-4f9a-9769-699cb3bb8391",
   "metadata": {},
   "outputs": [],
   "source": []
  }
 ],
 "metadata": {
  "kernelspec": {
   "display_name": "Python 3 (ipykernel)",
   "language": "python",
   "name": "python3"
  },
  "language_info": {
   "codemirror_mode": {
    "name": "ipython",
    "version": 3
   },
   "file_extension": ".py",
   "mimetype": "text/x-python",
   "name": "python",
   "nbconvert_exporter": "python",
   "pygments_lexer": "ipython3",
   "version": "3.11.7"
  }
 },
 "nbformat": 4,
 "nbformat_minor": 5
}
